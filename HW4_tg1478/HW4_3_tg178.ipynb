{
 "cells": [
  {
   "cell_type": "markdown",
   "metadata": {},
   "source": [
    "Author: Tashay Green in collaboration with Jordan Vani"
   ]
  },
  {
   "cell_type": "code",
   "execution_count": 22,
   "metadata": {
    "collapsed": true
   },
   "outputs": [],
   "source": [
    "import os\n",
    "import sys\n",
    "import numpy as np\n",
    "import pylab as pl"
   ]
  },
  {
   "cell_type": "markdown",
   "metadata": {},
   "source": [
    "What if we used the values for where the former inmate was or was not \"Convicted of a felony\" (row 10) in the Recidivism (Years 1-3)?"
   ]
  },
  {
   "cell_type": "markdown",
   "metadata": {},
   "source": [
    "## Null Hypothesis\n",
    "\n",
    "The % of former prisoners who were convicted of a felony within 3 years after release is the same or higher for candiates who participated in the program as for the control group, significance level p=0.05."
   ]
  },
  {
   "cell_type": "markdown",
   "metadata": {},
   "source": [
    "## Alternative Hypothesis\n",
    "\n",
    "The % of former prisoners who were convicted of a felony within 3 years after release is lower for candiates who participated in the program as for the control group, significance level p=0.05."
   ]
  },
  {
   "cell_type": "code",
   "execution_count": 6,
   "metadata": {
    "collapsed": true
   },
   "outputs": [],
   "source": [
    "alpha=0.05\n",
    "\n",
    "# percentages of control group (P0) and program group (P1) per data table provided in the study\n",
    "P0 = 11.7*0.01 \n",
    "P1 = 10.0*0.01\n",
    "\n",
    "# Sample size of control group and program group\n",
    "n0 = 409\n",
    "n1 = 568\n",
    "\n",
    "# The counts of recidivism persons\n",
    "Nt0 = P0 * n0\n",
    "Nt1 = P1 * n1"
   ]
  },
  {
   "cell_type": "markdown",
   "metadata": {},
   "source": [
    "# Z-Test"
   ]
  },
  {
   "cell_type": "markdown",
   "metadata": {},
   "source": [
    "The sample proportion"
   ]
  },
  {
   "cell_type": "code",
   "execution_count": 7,
   "metadata": {
    "collapsed": false
   },
   "outputs": [
    {
     "name": "stdout",
     "output_type": "stream",
     "text": [
      "0.10711668372569089\n"
     ]
    }
   ],
   "source": [
    "#define the sample proportion first\n",
    "sp = (P0 * n0 + P1 * n1) / (n1 + n0)\n",
    "print (sp)"
   ]
  },
  {
   "cell_type": "markdown",
   "metadata": {},
   "source": [
    "The sample proportion standard deviation"
   ]
  },
  {
   "cell_type": "code",
   "execution_count": 11,
   "metadata": {
    "collapsed": false,
    "scrolled": true
   },
   "outputs": [
    {
     "name": "stdout",
     "output_type": "stream",
     "text": [
      "0.10711668372569089\n",
      "0.0200556791612\n"
     ]
    }
   ],
   "source": [
    "# Function to calculate the standard deviation\n",
    "sp_stdev = lambda p, n: np.sqrt( p * ( 1 - p ) / n[0] +  p * ( 1 - p ) / n[1]  )\n",
    "\n",
    "# Calculating the standard deviation of recidivism of the population\n",
    "sp_stdev_2y = sp_stdev(( Nt0 + Nt1) / (n0 + n1), [n0, n1])\n",
    "print (sp)\n",
    "print (sp_stdev_2y)"
   ]
  },
  {
   "cell_type": "markdown",
   "metadata": {},
   "source": [
    "Z-score: How many standard deviations away from the population is the statistic?"
   ]
  },
  {
   "cell_type": "code",
   "execution_count": 12,
   "metadata": {
    "collapsed": false
   },
   "outputs": [
    {
     "name": "stdout",
     "output_type": "stream",
     "text": [
      "-0.84764020522\n"
     ]
    }
   ],
   "source": [
    "zscore = lambda p0, p1, s : (p0 - p1) / s\n",
    "z_2y = zscore(P_1, P_0, sp_stdev_2y)\n",
    "print (z_2y)"
   ]
  },
  {
   "cell_type": "code",
   "execution_count": 15,
   "metadata": {
    "collapsed": false
   },
   "outputs": [
    {
     "name": "stdout",
     "output_type": "stream",
     "text": [
      "The sample proportion is: 0.10711668372569089\n",
      "The sample proportion standard deviation is: 0.0200556791612\n",
      "The Z-score is: -0.84764020522\n"
     ]
    }
   ],
   "source": [
    "print ('The sample proportion is:' ,sp)\n",
    "print ('The sample proportion standard deviation is:', sp_stdev_2y)\n",
    "print ('The Z-score is:', z_2y)"
   ]
  },
  {
   "cell_type": "code",
   "execution_count": 17,
   "metadata": {
    "collapsed": false
   },
   "outputs": [
    {
     "name": "stdout",
     "output_type": "stream",
     "text": [
      "The p-value is: 0.17110000000000003\n"
     ]
    }
   ],
   "source": [
    "# 1 - P\n",
    "p_value = 1 - 0.8289 \n",
    "print ('The p-value is:',p_value)"
   ]
  },
  {
   "cell_type": "markdown",
   "metadata": {},
   "source": [
    "The p value is larger than the critical value 0.05 therefore we must **accept** the Null Hypothesis. "
   ]
  },
  {
   "cell_type": "markdown",
   "metadata": {},
   "source": [
    "# Chi-square test"
   ]
  },
  {
   "cell_type": "markdown",
   "metadata": {},
   "source": [
    "| Returned to prison (1-3 years)|  Convicted of Felony  |  Not Convicted of Felony |\n",
    "|:-----------:|:---------|:---------|:---|\n",
    "|Program Group|.100 * 568|.900 * 568|568\n",
    "|Control Group|.117 * 409|.883 * 409|409\n",
    "|\n",
    "|Total|104.653|872.347|977"
   ]
  },
  {
   "cell_type": "code",
   "execution_count": 23,
   "metadata": {
    "collapsed": false
   },
   "outputs": [
    {
     "name": "stdout",
     "output_type": "stream",
     "text": [
      "The chi-square value is: 0.7184939175052886\n"
     ]
    }
   ],
   "source": [
    "chisqstat= lambda N, values, expect_num : ((values[0][0] * values[1][1]\n",
    "                                            -values[0][1] * values[1][0])**2) * N / expect_num\n",
    "Ntot = 977 \n",
    "expected_num = 568 * 409 * 104.653 * 872.347\n",
    "sample_values = [[0.100 * 568, 0.900 * 568], [0.117 * 409, 0.883 * 409]]\n",
    " \n",
    "\n",
    "print ('The chi-square value is:', chisqstat(Ntot,  sample_values, expected_num))"
   ]
  },
  {
   "cell_type": "markdown",
   "metadata": {},
   "source": [
    "The chi-square value at p=0.05 is much smaller than the critical value 3.84 therefore we must **accept** the Null Hypothesis. "
   ]
  }
 ],
 "metadata": {
  "kernelspec": {
   "display_name": "PUI2016_Python3",
   "language": "python",
   "name": "pui2016_python3"
  },
  "language_info": {
   "codemirror_mode": {
    "name": "ipython",
    "version": 3
   },
   "file_extension": ".py",
   "mimetype": "text/x-python",
   "name": "python",
   "nbconvert_exporter": "python",
   "pygments_lexer": "ipython3",
   "version": "3.5.2"
  }
 },
 "nbformat": 4,
 "nbformat_minor": 0
}
