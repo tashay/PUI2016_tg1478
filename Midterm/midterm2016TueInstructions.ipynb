{
 "cells": [
  {
   "cell_type": "markdown",
   "metadata": {},
   "source": [
    "# Investigation of citibike ridership with income"
   ]
  },
  {
   "cell_type": "markdown",
   "metadata": {},
   "source": [
    "# Objective: relate the citibike ridership to income.\n",
    "\n",
    "## 1-4 are the data wrangling portion of the exercise, and are worth 50% of the points\n",
    "### In the data wrangling portion points are awarded for data processed so that they support the analysis in parts 5-10. \n",
    "\n",
    "## 5-10 are the analysis portion of the exercise, and are worth 50% of the points \n",
    "### In the data analysis portion points are awarded for correct analysis, conclusions supported by the analysis *and expressed in full sentences*, and plots that support the analysis and conclusions.\n",
    "\n",
    "\n",
    "## Data Wrangling\n",
    "\n",
    "### 1. Download two months of citibike data 201506 and 201601\n",
    "### 2. Download income information from IRS for NYC and extract the income by zipcode ([alternatives](https://docs.google.com/document/d/1gZ8QwuRYqcwwt2R0vfQFl3RDfEtDpfcii57gJBpWE-M/edit?usp=sharing))\n",
    "### 3. Find the zipcodes of citibike stations by reverse geocoding the coordinates ([alternatives](https://docs.google.com/document/d/1gZ8QwuRYqcwwt2R0vfQFl3RDfEtDpfcii57gJBpWE-M/edit?usp=sharing))\n",
    "### 4. Join the datasets and find the number of rides per zipcode in one of your 2015/06 of data (and later in the 2016/01 data for EC)\n",
    "\n",
    "## Analysis\n",
    "\n",
    "\n",
    "### 5. Fit a line to ridership (number of rides over one of the 2 months of citibike data downloaded, start with 2015) vs income (total Adjusted gross income for the zip).\n",
    "### 6. Improve the fit by removing 2 ''suspected'' outliers and *quantify* the improvement\n",
    "### 7. Fit a 2nd degree polynomial to the same data\n",
    "### 8. Compare FORMALLY the line and the 2nd degree polynomial fit to assess which is a better fit to your chosen significance level.\n",
    "### 9. Repeat the analysis with the 2016 citibike dataset. Are the results consistent? What can you say about the outliers?\n",
    "### 10. Compare the fit to the AGI to a fit to the income per person as endogenous variable  (*i.e.* redo your fit with income per person instead of AGI, see below how to derive income per person) and compare the fits. How do the fit compare? If the latter is better what does this say? If it is worse, what does this say?\n",
    "\n",
    "## EC: Discuss why it may that the incomePC leads to a different fit and if you have an explaination describe how you would test it, and go ahead and test it.\n",
    "\n"
   ]
  },
  {
   "cell_type": "markdown",
   "metadata": {},
   "source": [
    "## 1. Download two months of citibike data ([help](https://docs.google.com/document/d/1GnZ1bU8CilUn7X8ONIOD55fF_fnmGufA0jn8a3__E9w/edit?usp=sharing)) 201501 and 201601. Begin working with 201501, and if you have time repeat the analysis for the other month, to see if your conclusions are robust. "
   ]
  },
  {
   "cell_type": "code",
   "execution_count": 10,
   "metadata": {
    "collapsed": false,
    "scrolled": false
   },
   "outputs": [
    {
     "name": "stdout",
     "output_type": "stream",
     "text": [
      "Downloading 201501\n",
      "file in place, you can continue\n"
     ]
    },
    {
     "data": {
      "text/html": [
       "<div>\n",
       "<table border=\"1\" class=\"dataframe\">\n",
       "  <thead>\n",
       "    <tr style=\"text-align: right;\">\n",
       "      <th></th>\n",
       "      <th>tripduration</th>\n",
       "      <th>starttime</th>\n",
       "      <th>stoptime</th>\n",
       "      <th>start station id</th>\n",
       "      <th>start station name</th>\n",
       "      <th>start station latitude</th>\n",
       "      <th>start station longitude</th>\n",
       "      <th>end station id</th>\n",
       "      <th>end station name</th>\n",
       "      <th>end station latitude</th>\n",
       "      <th>end station longitude</th>\n",
       "      <th>bikeid</th>\n",
       "      <th>usertype</th>\n",
       "      <th>birth year</th>\n",
       "      <th>gender</th>\n",
       "    </tr>\n",
       "  </thead>\n",
       "  <tbody>\n",
       "    <tr>\n",
       "      <th>0</th>\n",
       "      <td>923</td>\n",
       "      <td>1/1/2016 00:00:41</td>\n",
       "      <td>1/1/2016 00:16:04</td>\n",
       "      <td>268</td>\n",
       "      <td>Howard St &amp; Centre St</td>\n",
       "      <td>40.719105</td>\n",
       "      <td>-73.999733</td>\n",
       "      <td>3002</td>\n",
       "      <td>South End Ave &amp; Liberty St</td>\n",
       "      <td>40.711512</td>\n",
       "      <td>-74.015756</td>\n",
       "      <td>22285</td>\n",
       "      <td>Subscriber</td>\n",
       "      <td>1958</td>\n",
       "      <td>1</td>\n",
       "    </tr>\n",
       "    <tr>\n",
       "      <th>1</th>\n",
       "      <td>379</td>\n",
       "      <td>1/1/2016 00:00:45</td>\n",
       "      <td>1/1/2016 00:07:04</td>\n",
       "      <td>476</td>\n",
       "      <td>E 31 St &amp; 3 Ave</td>\n",
       "      <td>40.743943</td>\n",
       "      <td>-73.979661</td>\n",
       "      <td>498</td>\n",
       "      <td>Broadway &amp; W 32 St</td>\n",
       "      <td>40.748549</td>\n",
       "      <td>-73.988084</td>\n",
       "      <td>17827</td>\n",
       "      <td>Subscriber</td>\n",
       "      <td>1969</td>\n",
       "      <td>1</td>\n",
       "    </tr>\n",
       "    <tr>\n",
       "      <th>2</th>\n",
       "      <td>589</td>\n",
       "      <td>1/1/2016 00:00:48</td>\n",
       "      <td>1/1/2016 00:10:37</td>\n",
       "      <td>489</td>\n",
       "      <td>10 Ave &amp; W 28 St</td>\n",
       "      <td>40.750664</td>\n",
       "      <td>-74.001768</td>\n",
       "      <td>284</td>\n",
       "      <td>Greenwich Ave &amp; 8 Ave</td>\n",
       "      <td>40.739017</td>\n",
       "      <td>-74.002638</td>\n",
       "      <td>21997</td>\n",
       "      <td>Subscriber</td>\n",
       "      <td>1982</td>\n",
       "      <td>2</td>\n",
       "    </tr>\n",
       "    <tr>\n",
       "      <th>3</th>\n",
       "      <td>889</td>\n",
       "      <td>1/1/2016 00:01:06</td>\n",
       "      <td>1/1/2016 00:15:56</td>\n",
       "      <td>268</td>\n",
       "      <td>Howard St &amp; Centre St</td>\n",
       "      <td>40.719105</td>\n",
       "      <td>-73.999733</td>\n",
       "      <td>3002</td>\n",
       "      <td>South End Ave &amp; Liberty St</td>\n",
       "      <td>40.711512</td>\n",
       "      <td>-74.015756</td>\n",
       "      <td>22794</td>\n",
       "      <td>Subscriber</td>\n",
       "      <td>1961</td>\n",
       "      <td>2</td>\n",
       "    </tr>\n",
       "    <tr>\n",
       "      <th>4</th>\n",
       "      <td>1480</td>\n",
       "      <td>1/1/2016 00:01:12</td>\n",
       "      <td>1/1/2016 00:25:52</td>\n",
       "      <td>2006</td>\n",
       "      <td>Central Park S &amp; 6 Ave</td>\n",
       "      <td>40.765909</td>\n",
       "      <td>-73.976342</td>\n",
       "      <td>2006</td>\n",
       "      <td>Central Park S &amp; 6 Ave</td>\n",
       "      <td>40.765909</td>\n",
       "      <td>-73.976342</td>\n",
       "      <td>14562</td>\n",
       "      <td>Subscriber</td>\n",
       "      <td>1952</td>\n",
       "      <td>1</td>\n",
       "    </tr>\n",
       "  </tbody>\n",
       "</table>\n",
       "</div>"
      ],
      "text/plain": [
       "   tripduration          starttime           stoptime  start station id  \\\n",
       "0           923  1/1/2016 00:00:41  1/1/2016 00:16:04               268   \n",
       "1           379  1/1/2016 00:00:45  1/1/2016 00:07:04               476   \n",
       "2           589  1/1/2016 00:00:48  1/1/2016 00:10:37               489   \n",
       "3           889  1/1/2016 00:01:06  1/1/2016 00:15:56               268   \n",
       "4          1480  1/1/2016 00:01:12  1/1/2016 00:25:52              2006   \n",
       "\n",
       "       start station name  start station latitude  start station longitude  \\\n",
       "0   Howard St & Centre St               40.719105               -73.999733   \n",
       "1         E 31 St & 3 Ave               40.743943               -73.979661   \n",
       "2        10 Ave & W 28 St               40.750664               -74.001768   \n",
       "3   Howard St & Centre St               40.719105               -73.999733   \n",
       "4  Central Park S & 6 Ave               40.765909               -73.976342   \n",
       "\n",
       "   end station id            end station name  end station latitude  \\\n",
       "0            3002  South End Ave & Liberty St             40.711512   \n",
       "1             498          Broadway & W 32 St             40.748549   \n",
       "2             284       Greenwich Ave & 8 Ave             40.739017   \n",
       "3            3002  South End Ave & Liberty St             40.711512   \n",
       "4            2006      Central Park S & 6 Ave             40.765909   \n",
       "\n",
       "   end station longitude  bikeid    usertype  birth year  gender  \n",
       "0             -74.015756   22285  Subscriber        1958       1  \n",
       "1             -73.988084   17827  Subscriber        1969       1  \n",
       "2             -74.002638   21997  Subscriber        1982       2  \n",
       "3             -74.015756   22794  Subscriber        1961       2  \n",
       "4             -73.976342   14562  Subscriber        1952       1  "
      ]
     },
     "execution_count": 10,
     "metadata": {},
     "output_type": "execute_result"
    }
   ],
   "source": [
    "cb2015.head()"
   ]
  },
  {
   "cell_type": "markdown",
   "metadata": {},
   "source": [
    "## 2. Downloading income data from IRS "
   ]
  },
  {
   "cell_type": "markdown",
   "metadata": {},
   "source": [
    "### Find income data per zipcode in NYC: you can find it from IRS the file name is  14zp33ny \n",
    "### and the IRS site is https://www.irs.gov/pub/irs-soi/?C=N;O=D\n",
    "\n",
    "Use the Adjusted gross income (AGI) for every zipcode. Additionally identify the columns indicating the number of returns, the number of dependents, the number of joint returns. Together they indicate the size of the family unit, allowing you to obtain the income per person in that zipcode, from the AGI of the whole zipcode. \n",
    "\n",
    "If you need help look [here]( https://raw.githubusercontent.com/fedhere/PUI2016_solutions/master/midterm/readIncomeXls.py?token=ABnkhnsJkYGifANYhzWZqCBzsOfu_HhPks5YF-VpwA%3D%3D)\n",
    "\n",
    "*For every zipcode the AGI is the first valid row of the \"Adjusted gross income (AGI) [3]\" columns associated with that zipcode.* \n",
    "\n",
    "Store the income data in a daraframe with (at least) the columns \n",
    "\n",
    "**zipcodes,\tincome, N,\tincomePC**\n",
    "\n",
    "where **zipcodes** are the zipcodes, **income** is the AGI, **N** the number of returns, **incomePC** the AGI for the zipcode divided by (N + N dependents + N joint returns)\n",
    "\n",
    "\n",
    "<font color=\"blue\">This is a hard dataset to wrangle, but you worked on many difficult datasets already in PUI! But if you think this task is too hard you can download a pre-wrangled version of the dataframe. You will lose 10% of the points. </font>"
   ]
  },
  {
   "cell_type": "code",
   "execution_count": 35,
   "metadata": {
    "collapsed": false,
    "scrolled": false
   },
   "outputs": [
    {
     "data": {
      "text/plain": [
       "Index(['Size of adjusted gross income', 'Number of returns',\n",
       "       'Number of single returns', 'Number of joint returns',\n",
       "       'Number of head of household returns',\n",
       "       'Number with paid preparer's signature', 'Number of exemptions',\n",
       "       'Number of dependents', 'Number of volunteer prepared returns [2]',\n",
       "       'Unnamed: 10',\n",
       "       ...\n",
       "       'Total tax liability [9]', 'Unnamed: 116', 'Additional Medicare tax',\n",
       "       'Unnamed: 118', 'Net investment income tax', 'Unnamed: 120',\n",
       "       'Tax due at time of filing [10]', 'Unnamed: 122',\n",
       "       'Overpayments refunded [11]', 'Unnamed: 124'],\n",
       "      dtype='object', length=124)"
      ]
     },
     "execution_count": 35,
     "metadata": {},
     "output_type": "execute_result"
    }
   ],
   "source": [
    "# After you download it and read it the IRS dataset should look like this\n",
    "incomeByZip.columns"
   ]
  },
  {
   "cell_type": "code",
   "execution_count": 6,
   "metadata": {
    "collapsed": false
   },
   "outputs": [
    {
     "name": "stdout",
     "output_type": "stream",
     "text": [
      "Adjusted gross income (AGI)  for zipcode 10001: 2363960.0\n"
     ]
    }
   ],
   "source": [
    "# extract the right entry with iloc[0]: e.g.\n",
    "# notice in this example the zipcode 10001 is the index of this df row\n",
    "print (\"Adjusted gross income (AGI)  for zipcode 10001:\", \n",
    "       incomeByZip.loc[[10001]][\"Adjusted gross income (AGI) [3]\"].iloc[0])"
   ]
  },
  {
   "cell_type": "markdown",
   "metadata": {},
   "source": [
    "Create a new dataframe zipincome with the value of income per zipcode, and income per person (per capita, PC) per zipcode \n",
    "(incomePC = income / (Nreturns + Njoint returns + Ndependents)"
   ]
  },
  {
   "cell_type": "code",
   "execution_count": 68,
   "metadata": {
    "collapsed": false
   },
   "outputs": [
    {
     "data": {
      "text/plain": [
       "[0, 99999, 10001, 10002, 10003, 10004, 10005, 10006, 10007, 10009]"
      ]
     },
     "execution_count": 68,
     "metadata": {},
     "output_type": "execute_result"
    }
   ],
   "source": [
    "# the zip codes series should look like this, and may contain some spurious values (0, 99999)\n",
    "zipcs[:10]"
   ]
  },
  {
   "cell_type": "code",
   "execution_count": 10,
   "metadata": {
    "collapsed": false
   },
   "outputs": [
    {
     "data": {
      "text/html": [
       "<div>\n",
       "<table border=\"1\" class=\"dataframe\">\n",
       "  <thead>\n",
       "    <tr style=\"text-align: right;\">\n",
       "      <th></th>\n",
       "      <th>zipcodes</th>\n",
       "      <th>income</th>\n",
       "      <th>N</th>\n",
       "      <th>Njoint</th>\n",
       "      <th>Ndeps</th>\n",
       "      <th>incomePC</th>\n",
       "    </tr>\n",
       "  </thead>\n",
       "  <tbody>\n",
       "    <tr>\n",
       "      <th>0</th>\n",
       "      <td>0</td>\n",
       "      <td>766646080</td>\n",
       "      <td>9397410</td>\n",
       "      <td>2942890</td>\n",
       "      <td>5539120</td>\n",
       "      <td>42.878688</td>\n",
       "    </tr>\n",
       "    <tr>\n",
       "      <th>1</th>\n",
       "      <td>99999</td>\n",
       "      <td>14338084</td>\n",
       "      <td>88940</td>\n",
       "      <td>28130</td>\n",
       "      <td>43810</td>\n",
       "      <td>89.122849</td>\n",
       "    </tr>\n",
       "    <tr>\n",
       "      <th>2</th>\n",
       "      <td>10001</td>\n",
       "      <td>2363960</td>\n",
       "      <td>14080</td>\n",
       "      <td>2410</td>\n",
       "      <td>3250</td>\n",
       "      <td>119.754813</td>\n",
       "    </tr>\n",
       "    <tr>\n",
       "      <th>3</th>\n",
       "      <td>10002</td>\n",
       "      <td>2215542</td>\n",
       "      <td>43370</td>\n",
       "      <td>11040</td>\n",
       "      <td>19160</td>\n",
       "      <td>30.114748</td>\n",
       "    </tr>\n",
       "    <tr>\n",
       "      <th>4</th>\n",
       "      <td>10003</td>\n",
       "      <td>6910992</td>\n",
       "      <td>29810</td>\n",
       "      <td>5460</td>\n",
       "      <td>4790</td>\n",
       "      <td>172.516026</td>\n",
       "    </tr>\n",
       "  </tbody>\n",
       "</table>\n",
       "</div>"
      ],
      "text/plain": [
       "   zipcodes     income        N   Njoint    Ndeps    incomePC\n",
       "0         0  766646080  9397410  2942890  5539120   42.878688\n",
       "1     99999   14338084    88940    28130    43810   89.122849\n",
       "2     10001    2363960    14080     2410     3250  119.754813\n",
       "3     10002    2215542    43370    11040    19160   30.114748\n",
       "4     10003    6910992    29810     5460     4790  172.516026"
      ]
     },
     "execution_count": 10,
     "metadata": {},
     "output_type": "execute_result"
    }
   ],
   "source": [
    "# compare your dataframe with mine to know you are on the right track\n",
    "zipincome.head()"
   ]
  },
  {
   "cell_type": "markdown",
   "metadata": {},
   "source": [
    "## 3. Find the zipcodes of citibike stations by reverse geocoding the coordinates\n",
    "You can use the google API including the long and latitide of each station: **CAREFUL!!: you do not need a separate API query per ride, just one per citibike station!** You have a limit of 2500 requests/day, so you cannot submit a request per ride. (You can use pd.DataFrame.drop_duplicates(), for example, to identify identical coordinate pairs or identical station ids, so as to not to repeat queries for the same station)\n",
    "\n",
    "https://developers.google.com/maps/documentation/geocoding/intro\n",
    "\n",
    "If you do not have an API key for googlemaps you can get one instantly here\n",
    "https://developers.google.com/maps/documentation/geocoding/get-api-key\n",
    "\n",
    "\n",
    "Once you have the zip for a lat/lon pair (lat, lon) you can use a condition like \n",
    "```\n",
    "(cb['start station latitude'] == lat) * (cb['start station longitude'] == lon)\n",
    "```\n",
    "as index to identify the rows of the citibike datframe that contain those coordinates and are associated to that zipcode\n",
    "```\n",
    "cb['zipcodes'][(cb['start station latitude'] == lat) * (cb['start station longitude'] == lon)] = thatzipcode\n",
    "```\n",
    "\n",
    "Once you have the formatted URL you can go [here](https://github.com/fedhere/PUI2016_solutions/blob/master/midterm/get_jsonparsed_data.py) for a function to download it. You can use it as revgeo = getJsonParsedData(url)[\"results\"][0]['address_components'][-1]['long_name']\n",
    "\n",
    "You can add a zip column to your dataframe. If you need help go here: https://gist.github.com/fedhere/2d9f835031654eeb0a0d780d203bf224\n",
    "\n",
    "<font color=\"blue\">You have used APIs before in HW2 and if you did the extra credit in HW5 (and solutions for that HW are posted in the github repo PUI2016_fb55 under HW5_fb55). But if you are not up for using the API you can download the zipcode of each citibike station here \n",
    "http://cosmo.nyu.edu/~fb55/UI_CUSP_2015/data/stationsZips2015.json and http://cosmo.nyu.edu/~fb55/UI_CUSP_2015/data/stationsZips2016.json\n",
    "However, this will cost you 10% of the points.</font>\n",
    "\n"
   ]
  },
  {
   "cell_type": "code",
   "execution_count": 12,
   "metadata": {
    "collapsed": false
   },
   "outputs": [
    {
     "name": "stderr",
     "output_type": "stream",
     "text": [
      "//anaconda/lib/python3.5/site-packages/pandas/computation/expressions.py:190: UserWarning: evaluating in Python space because the '*' operator is not supported by numexpr for the bool dtype, use '&' instead\n",
      "  unsupported[op_str]))\n",
      "//anaconda/lib/python3.5/site-packages/ipykernel/__main__.py:9: SettingWithCopyWarning: \n",
      "A value is trying to be set on a copy of a slice from a DataFrame\n",
      "\n",
      "See the caveats in the documentation: http://pandas.pydata.org/pandas-docs/stable/indexing.html#indexing-view-versus-copy\n",
      "//anaconda/lib/python3.5/site-packages/pandas/core/internals.py:4417: FutureWarning: elementwise comparison failed; returning scalar instead, but in the future will perform elementwise comparison\n",
      "  comp = (nn == nn_at)\n"
     ]
    },
    {
     "data": {
      "text/html": [
       "<div>\n",
       "<table border=\"1\" class=\"dataframe\">\n",
       "  <thead>\n",
       "    <tr style=\"text-align: right;\">\n",
       "      <th></th>\n",
       "      <th>tripduration</th>\n",
       "      <th>starttime</th>\n",
       "      <th>stoptime</th>\n",
       "      <th>start station id</th>\n",
       "      <th>start station name</th>\n",
       "      <th>start station latitude</th>\n",
       "      <th>start station longitude</th>\n",
       "      <th>end station id</th>\n",
       "      <th>end station name</th>\n",
       "      <th>end station latitude</th>\n",
       "      <th>end station longitude</th>\n",
       "      <th>bikeid</th>\n",
       "      <th>usertype</th>\n",
       "      <th>birth year</th>\n",
       "      <th>gender</th>\n",
       "      <th>zipcodes</th>\n",
       "    </tr>\n",
       "  </thead>\n",
       "  <tbody>\n",
       "    <tr>\n",
       "      <th>0</th>\n",
       "      <td>1338</td>\n",
       "      <td>6/1/2015 0:00</td>\n",
       "      <td>6/1/2015 0:22</td>\n",
       "      <td>128</td>\n",
       "      <td>MacDougal St &amp; Prince St</td>\n",
       "      <td>40.727103</td>\n",
       "      <td>-74.002971</td>\n",
       "      <td>2021</td>\n",
       "      <td>W 45 St &amp; 8 Ave</td>\n",
       "      <td>40.759291</td>\n",
       "      <td>-73.988597</td>\n",
       "      <td>20721</td>\n",
       "      <td>Subscriber</td>\n",
       "      <td>1984</td>\n",
       "      <td>1</td>\n",
       "      <td>2926</td>\n",
       "    </tr>\n",
       "    <tr>\n",
       "      <th>1</th>\n",
       "      <td>290</td>\n",
       "      <td>6/1/2015 0:00</td>\n",
       "      <td>6/1/2015 0:05</td>\n",
       "      <td>438</td>\n",
       "      <td>St Marks Pl &amp; 1 Ave</td>\n",
       "      <td>40.727791</td>\n",
       "      <td>-73.985649</td>\n",
       "      <td>312</td>\n",
       "      <td>Allen St &amp; E Houston St</td>\n",
       "      <td>40.722055</td>\n",
       "      <td>-73.989111</td>\n",
       "      <td>21606</td>\n",
       "      <td>Subscriber</td>\n",
       "      <td>1997</td>\n",
       "      <td>1</td>\n",
       "      <td>10003</td>\n",
       "    </tr>\n",
       "    <tr>\n",
       "      <th>2</th>\n",
       "      <td>634</td>\n",
       "      <td>6/1/2015 0:01</td>\n",
       "      <td>6/1/2015 0:11</td>\n",
       "      <td>383</td>\n",
       "      <td>Greenwich Ave &amp; Charles St</td>\n",
       "      <td>40.735238</td>\n",
       "      <td>-74.000271</td>\n",
       "      <td>388</td>\n",
       "      <td>W 26 St &amp; 10 Ave</td>\n",
       "      <td>40.749718</td>\n",
       "      <td>-74.002950</td>\n",
       "      <td>16595</td>\n",
       "      <td>Subscriber</td>\n",
       "      <td>1993</td>\n",
       "      <td>1</td>\n",
       "      <td>10011</td>\n",
       "    </tr>\n",
       "    <tr>\n",
       "      <th>3</th>\n",
       "      <td>159</td>\n",
       "      <td>6/1/2015 0:01</td>\n",
       "      <td>6/1/2015 0:04</td>\n",
       "      <td>361</td>\n",
       "      <td>Allen St &amp; Hester St</td>\n",
       "      <td>40.716059</td>\n",
       "      <td>-73.991908</td>\n",
       "      <td>531</td>\n",
       "      <td>Forsyth St &amp; Broome St</td>\n",
       "      <td>40.718939</td>\n",
       "      <td>-73.992663</td>\n",
       "      <td>16949</td>\n",
       "      <td>Subscriber</td>\n",
       "      <td>1981</td>\n",
       "      <td>1</td>\n",
       "      <td>5416</td>\n",
       "    </tr>\n",
       "    <tr>\n",
       "      <th>4</th>\n",
       "      <td>1233</td>\n",
       "      <td>6/1/2015 0:02</td>\n",
       "      <td>6/1/2015 0:22</td>\n",
       "      <td>382</td>\n",
       "      <td>University Pl &amp; E 14 St</td>\n",
       "      <td>40.734927</td>\n",
       "      <td>-73.992005</td>\n",
       "      <td>532</td>\n",
       "      <td>S 5 Pl &amp; S 4 St</td>\n",
       "      <td>40.710451</td>\n",
       "      <td>-73.960876</td>\n",
       "      <td>17028</td>\n",
       "      <td>Customer</td>\n",
       "      <td>NaN</td>\n",
       "      <td>0</td>\n",
       "      <td>4510</td>\n",
       "    </tr>\n",
       "  </tbody>\n",
       "</table>\n",
       "</div>"
      ],
      "text/plain": [
       "   tripduration      starttime       stoptime  start station id  \\\n",
       "0          1338  6/1/2015 0:00  6/1/2015 0:22               128   \n",
       "1           290  6/1/2015 0:00  6/1/2015 0:05               438   \n",
       "2           634  6/1/2015 0:01  6/1/2015 0:11               383   \n",
       "3           159  6/1/2015 0:01  6/1/2015 0:04               361   \n",
       "4          1233  6/1/2015 0:02  6/1/2015 0:22               382   \n",
       "\n",
       "           start station name  start station latitude  \\\n",
       "0    MacDougal St & Prince St               40.727103   \n",
       "1         St Marks Pl & 1 Ave               40.727791   \n",
       "2  Greenwich Ave & Charles St               40.735238   \n",
       "3        Allen St & Hester St               40.716059   \n",
       "4     University Pl & E 14 St               40.734927   \n",
       "\n",
       "   start station longitude  end station id         end station name  \\\n",
       "0               -74.002971            2021          W 45 St & 8 Ave   \n",
       "1               -73.985649             312  Allen St & E Houston St   \n",
       "2               -74.000271             388         W 26 St & 10 Ave   \n",
       "3               -73.991908             531   Forsyth St & Broome St   \n",
       "4               -73.992005             532          S 5 Pl & S 4 St   \n",
       "\n",
       "   end station latitude  end station longitude  bikeid    usertype  \\\n",
       "0             40.759291             -73.988597   20721  Subscriber   \n",
       "1             40.722055             -73.989111   21606  Subscriber   \n",
       "2             40.749718             -74.002950   16595  Subscriber   \n",
       "3             40.718939             -73.992663   16949  Subscriber   \n",
       "4             40.710451             -73.960876   17028    Customer   \n",
       "\n",
       "   birth year  gender zipcodes  \n",
       "0        1984       1     2926  \n",
       "1        1997       1    10003  \n",
       "2        1993       1    10011  \n",
       "3        1981       1     5416  \n",
       "4         NaN       0     4510  "
      ]
     },
     "execution_count": 12,
     "metadata": {},
     "output_type": "execute_result"
    }
   ],
   "source": [
    "# you can compare your dataframe with mine to check that you are on track\n",
    "# notice that some zipcodes may be incorrect: e.g. 2926 is the reverse-geocoded zip I get for station id 128\n",
    "# later you will have to take care of those\n",
    "cb2015.head()"
   ]
  },
  {
   "cell_type": "code",
   "execution_count": 13,
   "metadata": {
    "collapsed": false
   },
   "outputs": [
    {
     "data": {
      "text/html": [
       "<div>\n",
       "<table border=\"1\" class=\"dataframe\">\n",
       "  <thead>\n",
       "    <tr style=\"text-align: right;\">\n",
       "      <th></th>\n",
       "      <th>zipcodes</th>\n",
       "      <th>tripduration</th>\n",
       "      <th>starttime</th>\n",
       "      <th>stoptime</th>\n",
       "      <th>start station id</th>\n",
       "      <th>start station name</th>\n",
       "      <th>start station latitude</th>\n",
       "      <th>start station longitude</th>\n",
       "      <th>end station id</th>\n",
       "      <th>end station name</th>\n",
       "      <th>end station latitude</th>\n",
       "      <th>end station longitude</th>\n",
       "      <th>bikeid</th>\n",
       "      <th>usertype</th>\n",
       "      <th>birth year</th>\n",
       "      <th>gender</th>\n",
       "    </tr>\n",
       "  </thead>\n",
       "  <tbody>\n",
       "    <tr>\n",
       "      <th>0</th>\n",
       "      <td>0914</td>\n",
       "      <td>3675</td>\n",
       "      <td>3675</td>\n",
       "      <td>3675</td>\n",
       "      <td>3675</td>\n",
       "      <td>3675</td>\n",
       "      <td>3675</td>\n",
       "      <td>3675</td>\n",
       "      <td>3675</td>\n",
       "      <td>3675</td>\n",
       "      <td>3675</td>\n",
       "      <td>3675</td>\n",
       "      <td>3675</td>\n",
       "      <td>3675</td>\n",
       "      <td>3369</td>\n",
       "      <td>3675</td>\n",
       "    </tr>\n",
       "    <tr>\n",
       "      <th>1</th>\n",
       "      <td>10001</td>\n",
       "      <td>51691</td>\n",
       "      <td>51691</td>\n",
       "      <td>51691</td>\n",
       "      <td>51691</td>\n",
       "      <td>51691</td>\n",
       "      <td>51691</td>\n",
       "      <td>51691</td>\n",
       "      <td>51691</td>\n",
       "      <td>51691</td>\n",
       "      <td>51691</td>\n",
       "      <td>51691</td>\n",
       "      <td>51691</td>\n",
       "      <td>51691</td>\n",
       "      <td>45571</td>\n",
       "      <td>51691</td>\n",
       "    </tr>\n",
       "    <tr>\n",
       "      <th>2</th>\n",
       "      <td>10002</td>\n",
       "      <td>45970</td>\n",
       "      <td>45970</td>\n",
       "      <td>45970</td>\n",
       "      <td>45970</td>\n",
       "      <td>45970</td>\n",
       "      <td>45970</td>\n",
       "      <td>45970</td>\n",
       "      <td>45970</td>\n",
       "      <td>45970</td>\n",
       "      <td>45970</td>\n",
       "      <td>45970</td>\n",
       "      <td>45970</td>\n",
       "      <td>45970</td>\n",
       "      <td>40795</td>\n",
       "      <td>45970</td>\n",
       "    </tr>\n",
       "    <tr>\n",
       "      <th>3</th>\n",
       "      <td>10003</td>\n",
       "      <td>74663</td>\n",
       "      <td>74663</td>\n",
       "      <td>74663</td>\n",
       "      <td>74663</td>\n",
       "      <td>74663</td>\n",
       "      <td>74663</td>\n",
       "      <td>74663</td>\n",
       "      <td>74663</td>\n",
       "      <td>74663</td>\n",
       "      <td>74663</td>\n",
       "      <td>74663</td>\n",
       "      <td>74663</td>\n",
       "      <td>74663</td>\n",
       "      <td>67536</td>\n",
       "      <td>74663</td>\n",
       "    </tr>\n",
       "    <tr>\n",
       "      <th>4</th>\n",
       "      <td>10004</td>\n",
       "      <td>13698</td>\n",
       "      <td>13698</td>\n",
       "      <td>13698</td>\n",
       "      <td>13698</td>\n",
       "      <td>13698</td>\n",
       "      <td>13698</td>\n",
       "      <td>13698</td>\n",
       "      <td>13698</td>\n",
       "      <td>13698</td>\n",
       "      <td>13698</td>\n",
       "      <td>13698</td>\n",
       "      <td>13698</td>\n",
       "      <td>13698</td>\n",
       "      <td>9850</td>\n",
       "      <td>13698</td>\n",
       "    </tr>\n",
       "  </tbody>\n",
       "</table>\n",
       "</div>"
      ],
      "text/plain": [
       "  zipcodes  tripduration  starttime  stoptime  start station id  \\\n",
       "0     0914          3675       3675      3675              3675   \n",
       "1    10001         51691      51691     51691             51691   \n",
       "2    10002         45970      45970     45970             45970   \n",
       "3    10003         74663      74663     74663             74663   \n",
       "4    10004         13698      13698     13698             13698   \n",
       "\n",
       "   start station name  start station latitude  start station longitude  \\\n",
       "0                3675                    3675                     3675   \n",
       "1               51691                   51691                    51691   \n",
       "2               45970                   45970                    45970   \n",
       "3               74663                   74663                    74663   \n",
       "4               13698                   13698                    13698   \n",
       "\n",
       "   end station id  end station name  end station latitude  \\\n",
       "0            3675              3675                  3675   \n",
       "1           51691             51691                 51691   \n",
       "2           45970             45970                 45970   \n",
       "3           74663             74663                 74663   \n",
       "4           13698             13698                 13698   \n",
       "\n",
       "   end station longitude  bikeid  usertype  birth year  gender  \n",
       "0                   3675    3675      3675        3369    3675  \n",
       "1                  51691   51691     51691       45571   51691  \n",
       "2                  45970   45970     45970       40795   45970  \n",
       "3                  74663   74663     74663       67536   74663  \n",
       "4                  13698   13698     13698        9850   13698  "
      ]
     },
     "execution_count": 13,
     "metadata": {},
     "output_type": "execute_result"
    }
   ],
   "source": [
    "#grouping and counting (the order may be different if you used the API and if you did not)\n",
    "# if you need help https://gist.github.com/fedhere/c8dc55be1a2269540df66734a75cff50\n",
    "\n",
    "cbgroup = cb2015.groupby .... count()\n",
    "cbgroup.head()"
   ]
  },
  {
   "cell_type": "markdown",
   "metadata": {},
   "source": [
    "### Join the datasets (dataframes)\n",
    "notice there may be lots of invalid zipcodes from bad reverse geocoding!! Drop all data with zipcodes < 10000. I named my joined DF cbincome"
   ]
  },
  {
   "cell_type": "code",
   "execution_count": 20,
   "metadata": {
    "collapsed": false
   },
   "outputs": [
    {
     "data": {
      "text/html": [
       "<div>\n",
       "<table border=\"1\" class=\"dataframe\">\n",
       "  <thead>\n",
       "    <tr style=\"text-align: right;\">\n",
       "      <th></th>\n",
       "      <th>zipcodes</th>\n",
       "      <th>income</th>\n",
       "      <th>N</th>\n",
       "      <th>Njoint</th>\n",
       "      <th>Ndeps</th>\n",
       "      <th>incomePC</th>\n",
       "      <th>Nrides</th>\n",
       "    </tr>\n",
       "  </thead>\n",
       "  <tbody>\n",
       "    <tr>\n",
       "      <th>0</th>\n",
       "      <td>10001</td>\n",
       "      <td>2363960</td>\n",
       "      <td>14080</td>\n",
       "      <td>2410</td>\n",
       "      <td>3250</td>\n",
       "      <td>119.754813</td>\n",
       "      <td>51691</td>\n",
       "    </tr>\n",
       "    <tr>\n",
       "      <th>1</th>\n",
       "      <td>10002</td>\n",
       "      <td>2215542</td>\n",
       "      <td>43370</td>\n",
       "      <td>11040</td>\n",
       "      <td>19160</td>\n",
       "      <td>30.114748</td>\n",
       "      <td>45970</td>\n",
       "    </tr>\n",
       "    <tr>\n",
       "      <th>2</th>\n",
       "      <td>10003</td>\n",
       "      <td>6910992</td>\n",
       "      <td>29810</td>\n",
       "      <td>5460</td>\n",
       "      <td>4790</td>\n",
       "      <td>172.516026</td>\n",
       "      <td>74663</td>\n",
       "    </tr>\n",
       "    <tr>\n",
       "      <th>3</th>\n",
       "      <td>10004</td>\n",
       "      <td>925417</td>\n",
       "      <td>2540</td>\n",
       "      <td>840</td>\n",
       "      <td>1130</td>\n",
       "      <td>205.192239</td>\n",
       "      <td>13698</td>\n",
       "    </tr>\n",
       "    <tr>\n",
       "      <th>4</th>\n",
       "      <td>10005</td>\n",
       "      <td>5545849</td>\n",
       "      <td>5890</td>\n",
       "      <td>1340</td>\n",
       "      <td>1340</td>\n",
       "      <td>647.123571</td>\n",
       "      <td>9631</td>\n",
       "    </tr>\n",
       "  </tbody>\n",
       "</table>\n",
       "</div>"
      ],
      "text/plain": [
       "   zipcodes   income      N  Njoint  Ndeps    incomePC  Nrides\n",
       "0     10001  2363960  14080    2410   3250  119.754813   51691\n",
       "1     10002  2215542  43370   11040  19160   30.114748   45970\n",
       "2     10003  6910992  29810    5460   4790  172.516026   74663\n",
       "3     10004   925417   2540     840   1130  205.192239   13698\n",
       "4     10005  5545849   5890    1340   1340  647.123571    9631"
      ]
     },
     "execution_count": 20,
     "metadata": {},
     "output_type": "execute_result"
    }
   ],
   "source": [
    "cbincome.head()"
   ]
  },
  {
   "cell_type": "markdown",
   "metadata": {},
   "source": [
    "# ANALYSIS PORTION remember to make plots and describe your findings with complete sentences."
   ]
  },
  {
   "cell_type": "markdown",
   "metadata": {},
   "source": [
    "## 5. Plot ridership vs AGI and fit the data with a line"
   ]
  },
  {
   "cell_type": "markdown",
   "metadata": {},
   "source": [
    "You have fitted lines and curves in multiple HWs. If you do it with statsmodels you get a number of diagnostics with the .summary() method, for example"
   ]
  },
  {
   "cell_type": "markdown",
   "metadata": {},
   "source": [
    "## 6. Choose two high leverage points that may be outliers, fit the data without them and compare the fits (make plots where appropriate)\n"
   ]
  },
  {
   "cell_type": "markdown",
   "metadata": {},
   "source": [
    "If you need help on removing data: https://gist.github.com/fedhere/89db40a3c9a28335bf5a35d52a52c595"
   ]
  },
  {
   "cell_type": "markdown",
   "metadata": {},
   "source": [
    "## 7. Fit a 2nd to the data degree polynomial and assess if the addition of the extra parameter improves the fit  (make plots where appropriate)"
   ]
  },
  {
   "cell_type": "markdown",
   "metadata": {},
   "source": [
    "## 8. Formally compare the first and second degree polynomial fit and decide which is better and if the addition of the extra model parameter is justified by the data  (make plots where appropriate)"
   ]
  },
  {
   "cell_type": "markdown",
   "metadata": {},
   "source": [
    "## 9.  Test with 2016, discuss the results  (make plots where appropriate)"
   ]
  },
  {
   "cell_type": "markdown",
   "metadata": {},
   "source": [
    "What happened to the outliers?"
   ]
  },
  {
   "cell_type": "markdown",
   "metadata": {},
   "source": [
    "## 10.  Fit the rides to the income per person, discuss the result  (make plots where appropriate)"
   ]
  },
  {
   "cell_type": "markdown",
   "metadata": {
    "collapsed": true
   },
   "source": [
    "Income per persoin is incomePC from part 2"
   ]
  },
  {
   "cell_type": "markdown",
   "metadata": {},
   "source": [
    "## EC: Speculate on reasons why incomePC fit is different from the income fit (if it is). "
   ]
  },
  {
   "cell_type": "markdown",
   "metadata": {},
   "source": [
    "## EC: Design and perform a test to explain why the incomePC fit is different from the income fit (if it is)  (make plots where appropriate)."
   ]
  },
  {
   "cell_type": "code",
   "execution_count": null,
   "metadata": {
    "collapsed": true
   },
   "outputs": [],
   "source": []
  }
 ],
 "metadata": {
  "kernelspec": {
   "display_name": "Python 3",
   "language": "python",
   "name": "python3"
  },
  "language_info": {
   "codemirror_mode": {
    "name": "ipython",
    "version": 3
   },
   "file_extension": ".py",
   "mimetype": "text/x-python",
   "name": "python",
   "nbconvert_exporter": "python",
   "pygments_lexer": "ipython3",
   "version": "3.5.2"
  }
 },
 "nbformat": 4,
 "nbformat_minor": 0
}
