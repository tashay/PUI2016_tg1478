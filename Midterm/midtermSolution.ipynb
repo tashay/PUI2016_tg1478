{
 "cells": [
  {
   "cell_type": "code",
   "execution_count": 1,
   "metadata": {
    "collapsed": true
   },
   "outputs": [],
   "source": [
    "__author__='fbb'"
   ]
  },
  {
   "cell_type": "markdown",
   "metadata": {},
   "source": [
    "# solution of PUI2016 midterm"
   ]
  },
  {
   "cell_type": "code",
   "execution_count": 2,
   "metadata": {
    "collapsed": false
   },
   "outputs": [
    {
     "name": "stdout",
     "output_type": "stream",
     "text": [
      "Populating the interactive namespace from numpy and matplotlib\n"
     ]
    }
   ],
   "source": [
    "import os\n",
    "import numpy as np\n",
    "import pylab as pl\n",
    "import statsmodels.api as sm\n",
    "import statsmodels.formula.api as smf\n",
    "import pandas as pd\n",
    "from getCitiBikeCSV import getCitiBikeCSV # must have this function locally or in path\n",
    "from get_jsonparsed_data import get_jsonparsed_data # must have this function locally or in path\n",
    "\n",
    "%pylab  inline"
   ]
  },
  {
   "cell_type": "markdown",
   "metadata": {},
   "source": [
    "# Relation of citibike usage and income\n",
    "\n",
    "## IRS DATA\n",
    "\n",
    "### income data from the IRS site is https://www.irs.gov/pub/irs-soi/?C=N;O=D\n",
    "### file name  14zp33ny.xls\n",
    "### accessed on 11/08/2016"
   ]
  },
  {
   "cell_type": "code",
   "execution_count": 3,
   "metadata": {
    "collapsed": false
   },
   "outputs": [
    {
     "name": "stdout",
     "output_type": "stream",
     "text": [
      "  % Total    % Received % Xferd  Average Speed   Time    Time     Time  Current\n",
      "                                 Dload  Upload   Total   Spent    Left  Speed\n",
      "100 8959k  100 8959k    0     0  2116k      0  0:00:04  0:00:04 --:--:-- 2117k\n"
     ]
    },
    {
     "data": {
      "text/html": [
       "<div>\n",
       "<table border=\"1\" class=\"dataframe\">\n",
       "  <thead>\n",
       "    <tr style=\"text-align: right;\">\n",
       "      <th></th>\n",
       "      <th>Size of adjusted gross income</th>\n",
       "      <th>Number of returns</th>\n",
       "      <th>Number of single returns</th>\n",
       "      <th>Number of joint returns</th>\n",
       "      <th>Number of head of household returns</th>\n",
       "      <th>Number with paid preparer's signature</th>\n",
       "      <th>Number of exemptions</th>\n",
       "      <th>Number of dependents</th>\n",
       "      <th>Number of volunteer prepared returns [2]</th>\n",
       "      <th>Unnamed: 10</th>\n",
       "      <th>...</th>\n",
       "      <th>Total tax liability [9]</th>\n",
       "      <th>Unnamed: 116</th>\n",
       "      <th>Additional Medicare tax</th>\n",
       "      <th>Unnamed: 118</th>\n",
       "      <th>Net investment income tax</th>\n",
       "      <th>Unnamed: 120</th>\n",
       "      <th>Tax due at time of filing [10]</th>\n",
       "      <th>Unnamed: 122</th>\n",
       "      <th>Overpayments refunded [11]</th>\n",
       "      <th>Unnamed: 124</th>\n",
       "    </tr>\n",
       "    <tr>\n",
       "      <th>ZIP\n",
       "code [1]</th>\n",
       "      <th></th>\n",
       "      <th></th>\n",
       "      <th></th>\n",
       "      <th></th>\n",
       "      <th></th>\n",
       "      <th></th>\n",
       "      <th></th>\n",
       "      <th></th>\n",
       "      <th></th>\n",
       "      <th></th>\n",
       "      <th></th>\n",
       "      <th></th>\n",
       "      <th></th>\n",
       "      <th></th>\n",
       "      <th></th>\n",
       "      <th></th>\n",
       "      <th></th>\n",
       "      <th></th>\n",
       "      <th></th>\n",
       "      <th></th>\n",
       "      <th></th>\n",
       "    </tr>\n",
       "  </thead>\n",
       "  <tbody>\n",
       "    <tr>\n",
       "      <th>NaN</th>\n",
       "      <td>NaN</td>\n",
       "      <td>NaN</td>\n",
       "      <td>NaN</td>\n",
       "      <td>NaN</td>\n",
       "      <td>NaN</td>\n",
       "      <td>NaN</td>\n",
       "      <td>NaN</td>\n",
       "      <td>NaN</td>\n",
       "      <td>Total</td>\n",
       "      <td>Number of volunteer income tax assistance (VIT...</td>\n",
       "      <td>...</td>\n",
       "      <td>Number of returns</td>\n",
       "      <td>Amount</td>\n",
       "      <td>Number of returns</td>\n",
       "      <td>Amount</td>\n",
       "      <td>Number of returns</td>\n",
       "      <td>Amount</td>\n",
       "      <td>Number of returns</td>\n",
       "      <td>Amount</td>\n",
       "      <td>Number of returns</td>\n",
       "      <td>Amount</td>\n",
       "    </tr>\n",
       "    <tr>\n",
       "      <th>NaN</th>\n",
       "      <td>NaN</td>\n",
       "      <td>-1</td>\n",
       "      <td>-2</td>\n",
       "      <td>-3</td>\n",
       "      <td>-4</td>\n",
       "      <td>-5</td>\n",
       "      <td>-6</td>\n",
       "      <td>-7</td>\n",
       "      <td>-8</td>\n",
       "      <td>-9</td>\n",
       "      <td>...</td>\n",
       "      <td>-114</td>\n",
       "      <td>-115</td>\n",
       "      <td>-116</td>\n",
       "      <td>-117</td>\n",
       "      <td>-118</td>\n",
       "      <td>-119</td>\n",
       "      <td>-120</td>\n",
       "      <td>-121</td>\n",
       "      <td>-122</td>\n",
       "      <td>-123</td>\n",
       "    </tr>\n",
       "    <tr>\n",
       "      <th>0</th>\n",
       "      <td>Total</td>\n",
       "      <td>9397410</td>\n",
       "      <td>4750550</td>\n",
       "      <td>2942890</td>\n",
       "      <td>1515950</td>\n",
       "      <td>6110600</td>\n",
       "      <td>17322490</td>\n",
       "      <td>5539120</td>\n",
       "      <td>279510</td>\n",
       "      <td>197150</td>\n",
       "      <td>...</td>\n",
       "      <td>7229610</td>\n",
       "      <td>129761061</td>\n",
       "      <td>280780</td>\n",
       "      <td>900175</td>\n",
       "      <td>300410</td>\n",
       "      <td>2745701</td>\n",
       "      <td>1781540</td>\n",
       "      <td>10177242</td>\n",
       "      <td>7115810</td>\n",
       "      <td>25052463</td>\n",
       "    </tr>\n",
       "    <tr>\n",
       "      <th>0</th>\n",
       "      <td>$1 under $25,000</td>\n",
       "      <td>3617400</td>\n",
       "      <td>2432240</td>\n",
       "      <td>468500</td>\n",
       "      <td>665410</td>\n",
       "      <td>2247810</td>\n",
       "      <td>5220510</td>\n",
       "      <td>1678560</td>\n",
       "      <td>187260</td>\n",
       "      <td>136800</td>\n",
       "      <td>...</td>\n",
       "      <td>1804270</td>\n",
       "      <td>1677200</td>\n",
       "      <td>0</td>\n",
       "      <td>0</td>\n",
       "      <td>0</td>\n",
       "      <td>0</td>\n",
       "      <td>451080</td>\n",
       "      <td>361017</td>\n",
       "      <td>2886740</td>\n",
       "      <td>6049923</td>\n",
       "    </tr>\n",
       "    <tr>\n",
       "      <th>0</th>\n",
       "      <td>$25,000 under $50,000</td>\n",
       "      <td>2070870</td>\n",
       "      <td>1103290</td>\n",
       "      <td>449390</td>\n",
       "      <td>467540</td>\n",
       "      <td>1280840</td>\n",
       "      <td>3729240</td>\n",
       "      <td>1219770</td>\n",
       "      <td>69390</td>\n",
       "      <td>49620</td>\n",
       "      <td>...</td>\n",
       "      <td>1769800</td>\n",
       "      <td>4790944</td>\n",
       "      <td>0</td>\n",
       "      <td>0</td>\n",
       "      <td>0</td>\n",
       "      <td>0</td>\n",
       "      <td>287080</td>\n",
       "      <td>461908</td>\n",
       "      <td>1747120</td>\n",
       "      <td>4510472</td>\n",
       "    </tr>\n",
       "  </tbody>\n",
       "</table>\n",
       "<p>5 rows × 124 columns</p>\n",
       "</div>"
      ],
      "text/plain": [
       "              Size of adjusted gross income  Number of returns  \\\n",
       "ZIP\\ncode [1]                                                    \n",
       "NaN                                     NaN                NaN   \n",
       "NaN                                     NaN                 -1   \n",
       "0                                     Total            9397410   \n",
       "0                          $1 under $25,000            3617400   \n",
       "0                     $25,000 under $50,000            2070870   \n",
       "\n",
       "               Number of single returns  Number of joint returns  \\\n",
       "ZIP\\ncode [1]                                                      \n",
       "NaN                                 NaN                      NaN   \n",
       "NaN                                  -2                       -3   \n",
       "0                               4750550                  2942890   \n",
       "0                               2432240                   468500   \n",
       "0                               1103290                   449390   \n",
       "\n",
       "               Number of head of household returns  \\\n",
       "ZIP\\ncode [1]                                        \n",
       "NaN                                            NaN   \n",
       "NaN                                             -4   \n",
       "0                                          1515950   \n",
       "0                                           665410   \n",
       "0                                           467540   \n",
       "\n",
       "               Number with paid preparer's signature  Number of exemptions  \\\n",
       "ZIP\\ncode [1]                                                                \n",
       "NaN                                              NaN                   NaN   \n",
       "NaN                                               -5                    -6   \n",
       "0                                            6110600              17322490   \n",
       "0                                            2247810               5220510   \n",
       "0                                            1280840               3729240   \n",
       "\n",
       "               Number of dependents Number of volunteer prepared returns [2]  \\\n",
       "ZIP\\ncode [1]                                                                  \n",
       "NaN                             NaN                                    Total   \n",
       "NaN                              -7                                       -8   \n",
       "0                           5539120                                   279510   \n",
       "0                           1678560                                   187260   \n",
       "0                           1219770                                    69390   \n",
       "\n",
       "                                                     Unnamed: 10     ...       \\\n",
       "ZIP\\ncode [1]                                                        ...        \n",
       "NaN            Number of volunteer income tax assistance (VIT...     ...        \n",
       "NaN                                                           -9     ...        \n",
       "0                                                         197150     ...        \n",
       "0                                                         136800     ...        \n",
       "0                                                          49620     ...        \n",
       "\n",
       "              Total tax liability [9]  Unnamed: 116 Additional Medicare tax  \\\n",
       "ZIP\\ncode [1]                                                                 \n",
       "NaN                 Number of returns        Amount       Number of returns   \n",
       "NaN                              -114          -115                    -116   \n",
       "0                             7229610     129761061                  280780   \n",
       "0                             1804270       1677200                       0   \n",
       "0                             1769800       4790944                       0   \n",
       "\n",
       "              Unnamed: 118 Net investment income tax Unnamed: 120  \\\n",
       "ZIP\\ncode [1]                                                       \n",
       "NaN                 Amount         Number of returns       Amount   \n",
       "NaN                   -117                      -118         -119   \n",
       "0                   900175                    300410      2745701   \n",
       "0                        0                         0            0   \n",
       "0                        0                         0            0   \n",
       "\n",
       "              Tax due at time of filing [10] Unnamed: 122  \\\n",
       "ZIP\\ncode [1]                                               \n",
       "NaN                        Number of returns       Amount   \n",
       "NaN                                     -120         -121   \n",
       "0                                    1781540     10177242   \n",
       "0                                     451080       361017   \n",
       "0                                     287080       461908   \n",
       "\n",
       "              Overpayments refunded [11] Unnamed: 124  \n",
       "ZIP\\ncode [1]                                          \n",
       "NaN                    Number of returns       Amount  \n",
       "NaN                                 -122         -123  \n",
       "0                                7115810     25052463  \n",
       "0                                2886740      6049923  \n",
       "0                                1747120      4510472  \n",
       "\n",
       "[5 rows x 124 columns]"
      ]
     },
     "execution_count": 3,
     "metadata": {},
     "output_type": "execute_result"
    }
   ],
   "source": [
    "!curl -O https://www.irs.gov/pub/irs-soi/14zp33ny.xls\n",
    "# movingto data directory\n",
    "os.system(\"mv 14zp33ny.xls \" + os.getenv(\"PUIDATA\"))\n",
    "# reading into a pandas dataframe\n",
    "incomeByZip = pd.read_excel(os.getenv(\"PUIDATA\") + \"/14zp33ny.xls\", header=3, index_col=\"\"\"ZIP\\ncode [1]\"\"\")\n",
    "incomeByZip.head()"
   ]
  },
  {
   "cell_type": "code",
   "execution_count": 4,
   "metadata": {
    "collapsed": false,
    "scrolled": true
   },
   "outputs": [
    {
     "data": {
      "text/plain": [
       "ZIP\\ncode [1]\n",
       "NaN          NaN\n",
       "NaN          -11\n",
       "0      766646080\n",
       "0       43301874\n",
       "0       75271045\n",
       "Name: Adjusted gross income (AGI) [3], dtype: float64"
      ]
     },
     "execution_count": 4,
     "metadata": {},
     "output_type": "execute_result"
    }
   ],
   "source": [
    "# extracting Adjusted gross income for every zipcode\n",
    "# for each zipcode that is the first of the several entries under AGI \n",
    "incomeByZip['Adjusted gross income (AGI) [3]'].head()"
   ]
  },
  {
   "cell_type": "code",
   "execution_count": 5,
   "metadata": {
    "collapsed": false
   },
   "outputs": [
    {
     "name": "stdout",
     "output_type": "stream",
     "text": [
      "10001 total AGI: 2363960.0\n"
     ]
    }
   ],
   "source": [
    "#extract the right entry with iloc[0]: for zipcode 1001.\n",
    "print (\"10001 total AGI:\", incomeByZip.loc[[10001]][\"Adjusted gross income (AGI) [3]\"].iloc[0])\n"
   ]
  },
  {
   "cell_type": "code",
   "execution_count": 6,
   "metadata": {
    "collapsed": false
   },
   "outputs": [],
   "source": [
    "# extract  the zipcodes and make them numerical\n",
    "zipcs = pd.to_numeric(incomeByZip.index, errors='coerce')\n",
    "zipcs = zipcs[~np.isnan(zipcs)].astype(int)"
   ]
  },
  {
   "cell_type": "code",
   "execution_count": 7,
   "metadata": {
    "collapsed": false
   },
   "outputs": [
    {
     "name": "stdout",
     "output_type": "stream",
     "text": [
      "number of unique zipcodesin IRS data 1544\n"
     ]
    }
   ],
   "source": [
    "# extract only unique zips and see that they are ok\n",
    "zipincome = pd.DataFrame()\n",
    "uniquezips = set(zipcs)\n",
    "zipincome['zipcodes'] = list(uniquezips)\n",
    "print (\"number of unique zipcodesin IRS data\", zipincome['zipcodes'].size)"
   ]
  },
  {
   "cell_type": "code",
   "execution_count": 8,
   "metadata": {
    "collapsed": false
   },
   "outputs": [
    {
     "data": {
      "text/html": [
       "<div>\n",
       "<table border=\"1\" class=\"dataframe\">\n",
       "  <thead>\n",
       "    <tr style=\"text-align: right;\">\n",
       "      <th></th>\n",
       "      <th>zipcodes</th>\n",
       "      <th>income</th>\n",
       "      <th>N</th>\n",
       "      <th>Njoint</th>\n",
       "      <th>Ndeps</th>\n",
       "    </tr>\n",
       "  </thead>\n",
       "  <tbody>\n",
       "    <tr>\n",
       "      <th>0</th>\n",
       "      <td>0</td>\n",
       "      <td>766646080</td>\n",
       "      <td>9397410</td>\n",
       "      <td>2942890</td>\n",
       "      <td>5539120</td>\n",
       "    </tr>\n",
       "    <tr>\n",
       "      <th>1</th>\n",
       "      <td>99999</td>\n",
       "      <td>14338084</td>\n",
       "      <td>88940</td>\n",
       "      <td>28130</td>\n",
       "      <td>43810</td>\n",
       "    </tr>\n",
       "    <tr>\n",
       "      <th>2</th>\n",
       "      <td>10001</td>\n",
       "      <td>2363960</td>\n",
       "      <td>14080</td>\n",
       "      <td>2410</td>\n",
       "      <td>3250</td>\n",
       "    </tr>\n",
       "    <tr>\n",
       "      <th>3</th>\n",
       "      <td>10002</td>\n",
       "      <td>2215542</td>\n",
       "      <td>43370</td>\n",
       "      <td>11040</td>\n",
       "      <td>19160</td>\n",
       "    </tr>\n",
       "    <tr>\n",
       "      <th>4</th>\n",
       "      <td>10003</td>\n",
       "      <td>6910992</td>\n",
       "      <td>29810</td>\n",
       "      <td>5460</td>\n",
       "      <td>4790</td>\n",
       "    </tr>\n",
       "  </tbody>\n",
       "</table>\n",
       "</div>"
      ],
      "text/plain": [
       "   zipcodes     income        N   Njoint    Ndeps\n",
       "0         0  766646080  9397410  2942890  5539120\n",
       "1     99999   14338084    88940    28130    43810\n",
       "2     10001    2363960    14080     2410     3250\n",
       "3     10002    2215542    43370    11040    19160\n",
       "4     10003    6910992    29810     5460     4790"
      ]
     },
     "execution_count": 8,
     "metadata": {},
     "output_type": "execute_result"
    }
   ],
   "source": [
    "# one option. fairly slow because it runs four list comprehensions\n",
    "\n",
    "#extact a few relevant entries from dataset\n",
    "zipincome['income'] = [incomeByZip.loc[[z]][\"Adjusted gross income (AGI) [3]\"].iloc[0] for z in uniquezips]\n",
    "zipincome['N'] = [incomeByZip.loc[[z]][\"Number of returns\"].iloc[0] for z in uniquezips]\n",
    "zipincome['Njoint'] = [incomeByZip.loc[[z]][\"Number of joint returns\"].iloc[0] for z in uniquezips]\n",
    "zipincome['Ndeps'] = [incomeByZip.loc[[z]][\"Number of dependents\"].iloc[0] for z in uniquezips]\n",
    "zipincome.head()"
   ]
  },
  {
   "cell_type": "raw",
   "metadata": {},
   "source": [
    "# alternative way. VERY VERY SLOW, \n",
    "# cause even if it run only one loop it is a for loop for loops are way slower than list comprehensions\n",
    "zipincome['zipcodes'] = list(set(zipcs))\n",
    "Nzips = len(zipincome['zipcodes'])\n",
    "#extact a few relevant entries \n",
    "zipincome['income'] = np.ones(Nzips) * np.nan\n",
    "zipincome['N'] = np.ones(Nzips) * np.nan\n",
    "zipincome['Njoint'] = np.ones(Nzips) * np.nan\n",
    "zipincome['Ndeps'] = np.ones(Nzips) * np.nan\n",
    "\n",
    "for i, z in enumerate(uniquezips):\n",
    "    zipincome['income'].iloc[i] = incomeByZip.loc[[z]][\"Adjusted gross income (AGI) [3]\"].iloc[0] \n",
    "    zipincome['N'].iloc[i] = incomeByZip.loc[[z]][\"Number of returns\"].iloc[0] \n",
    "    zipincome['Njoint'].iloc[i] = incomeByZip.loc[[z]][\"Number of joint returns\"].iloc[0] \n",
    "    zipincome['Ndeps'].iloc[i] = incomeByZip.loc[[z]][\"Number of dependents\"].iloc[0] \n",
    "zipincome.head()                             "
   ]
  },
  {
   "cell_type": "code",
   "execution_count": 9,
   "metadata": {
    "collapsed": false
   },
   "outputs": [
    {
     "data": {
      "text/html": [
       "<div>\n",
       "<table border=\"1\" class=\"dataframe\">\n",
       "  <thead>\n",
       "    <tr style=\"text-align: right;\">\n",
       "      <th></th>\n",
       "      <th>zipcodes</th>\n",
       "      <th>income</th>\n",
       "      <th>N</th>\n",
       "      <th>Njoint</th>\n",
       "      <th>Ndeps</th>\n",
       "    </tr>\n",
       "  </thead>\n",
       "  <tbody>\n",
       "    <tr>\n",
       "      <th>0</th>\n",
       "      <td>0</td>\n",
       "      <td>766646080</td>\n",
       "      <td>9397410</td>\n",
       "      <td>2942890</td>\n",
       "      <td>5539120</td>\n",
       "    </tr>\n",
       "    <tr>\n",
       "      <th>1</th>\n",
       "      <td>10001</td>\n",
       "      <td>2363960</td>\n",
       "      <td>14080</td>\n",
       "      <td>2410</td>\n",
       "      <td>3250</td>\n",
       "    </tr>\n",
       "    <tr>\n",
       "      <th>2</th>\n",
       "      <td>10002</td>\n",
       "      <td>2215542</td>\n",
       "      <td>43370</td>\n",
       "      <td>11040</td>\n",
       "      <td>19160</td>\n",
       "    </tr>\n",
       "    <tr>\n",
       "      <th>3</th>\n",
       "      <td>10003</td>\n",
       "      <td>6910992</td>\n",
       "      <td>29810</td>\n",
       "      <td>5460</td>\n",
       "      <td>4790</td>\n",
       "    </tr>\n",
       "    <tr>\n",
       "      <th>4</th>\n",
       "      <td>10004</td>\n",
       "      <td>925417</td>\n",
       "      <td>2540</td>\n",
       "      <td>840</td>\n",
       "      <td>1130</td>\n",
       "    </tr>\n",
       "  </tbody>\n",
       "</table>\n",
       "</div>"
      ],
      "text/plain": [
       "  zipcodes     income        N   Njoint    Ndeps\n",
       "0        0  766646080  9397410  2942890  5539120\n",
       "1    10001    2363960    14080     2410     3250\n",
       "2    10002    2215542    43370    11040    19160\n",
       "3    10003    6910992    29810     5460     4790\n",
       "4    10004     925417     2540      840     1130"
      ]
     },
     "execution_count": 9,
     "metadata": {},
     "output_type": "execute_result"
    }
   ],
   "source": [
    "# alternative:using .groupby() and .first()\n",
    "zipincome = incomeByZip.groupby(incomeByZip.index).first()[[\"Adjusted gross income (AGI) [3]\", \n",
    "                                                            \"Number of returns\",\n",
    "                                                            \"Number of joint returns\", \n",
    "                                                            \"Number of dependents\"]]\n",
    "zipincome.rename(columns = {\"Adjusted gross income (AGI) [3]\":\"income\", \"Number of returns\":\"N\",\n",
    "                             \"Number of joint returns\":\"Njoint\", \"Number of dependents\":\"Ndeps\"}, inplace=True)\n",
    "zipincome.reset_index(inplace=True)\n",
    "zipincome.rename(columns = {\"ZIP\\ncode [1]\":\"zipcodes\"}, inplace=True)\n",
    "zipincome.head()"
   ]
  },
  {
   "cell_type": "code",
   "execution_count": 10,
   "metadata": {
    "collapsed": false
   },
   "outputs": [
    {
     "data": {
      "text/html": [
       "<div>\n",
       "<table border=\"1\" class=\"dataframe\">\n",
       "  <thead>\n",
       "    <tr style=\"text-align: right;\">\n",
       "      <th></th>\n",
       "      <th>zipcodes</th>\n",
       "      <th>income</th>\n",
       "      <th>N</th>\n",
       "      <th>Njoint</th>\n",
       "      <th>Ndeps</th>\n",
       "      <th>incomePC</th>\n",
       "    </tr>\n",
       "  </thead>\n",
       "  <tbody>\n",
       "    <tr>\n",
       "      <th>0</th>\n",
       "      <td>0</td>\n",
       "      <td>766646080</td>\n",
       "      <td>9397410</td>\n",
       "      <td>2942890</td>\n",
       "      <td>5539120</td>\n",
       "      <td>42.878688</td>\n",
       "    </tr>\n",
       "    <tr>\n",
       "      <th>1</th>\n",
       "      <td>10001</td>\n",
       "      <td>2363960</td>\n",
       "      <td>14080</td>\n",
       "      <td>2410</td>\n",
       "      <td>3250</td>\n",
       "      <td>119.754813</td>\n",
       "    </tr>\n",
       "    <tr>\n",
       "      <th>2</th>\n",
       "      <td>10002</td>\n",
       "      <td>2215542</td>\n",
       "      <td>43370</td>\n",
       "      <td>11040</td>\n",
       "      <td>19160</td>\n",
       "      <td>30.114748</td>\n",
       "    </tr>\n",
       "    <tr>\n",
       "      <th>3</th>\n",
       "      <td>10003</td>\n",
       "      <td>6910992</td>\n",
       "      <td>29810</td>\n",
       "      <td>5460</td>\n",
       "      <td>4790</td>\n",
       "      <td>172.516026</td>\n",
       "    </tr>\n",
       "    <tr>\n",
       "      <th>4</th>\n",
       "      <td>10004</td>\n",
       "      <td>925417</td>\n",
       "      <td>2540</td>\n",
       "      <td>840</td>\n",
       "      <td>1130</td>\n",
       "      <td>205.192239</td>\n",
       "    </tr>\n",
       "  </tbody>\n",
       "</table>\n",
       "</div>"
      ],
      "text/plain": [
       "  zipcodes     income        N   Njoint    Ndeps    incomePC\n",
       "0        0  766646080  9397410  2942890  5539120   42.878688\n",
       "1    10001    2363960    14080     2410     3250  119.754813\n",
       "2    10002    2215542    43370    11040    19160   30.114748\n",
       "3    10003    6910992    29810     5460     4790  172.516026\n",
       "4    10004     925417     2540      840     1130  205.192239"
      ]
     },
     "execution_count": 10,
     "metadata": {},
     "output_type": "execute_result"
    }
   ],
   "source": [
    "#income per person in zipcode\n",
    "zipincome['incomePC'] = zipincome['income'] / (zipincome.N + zipincome.Ndeps + zipincome.Njoint)\n",
    "zipincome.head()"
   ]
  },
  {
   "cell_type": "markdown",
   "metadata": {},
   "source": [
    "## CITIBIKE DATA\n",
    "\n",
    "### citibike data for 201506 and 201601, accessed on 11/08 "
   ]
  },
  {
   "cell_type": "code",
   "execution_count": 11,
   "metadata": {
    "collapsed": false
   },
   "outputs": [
    {
     "name": "stdout",
     "output_type": "stream",
     "text": [
      "Downloading 201506\n",
      "file in place, you can continue\n",
      "Downloading 201601\n",
      "file in place, you can continue\n"
     ]
    }
   ],
   "source": [
    "#download 2015 and 2016 data\n",
    "datestring = {15:\"201506\", 16:\"201601\"}\n",
    "getCitiBikeCSV(datestring[15])\n",
    "cb2015 = pd.read_csv(os.getenv(\"PUIDATA\") + \"/\" + datestring[15] + \"-citibike-tripdata.csv\")\n",
    "getCitiBikeCSV(datestring[16])\n",
    "cb2016 = pd.read_csv(os.getenv(\"PUIDATA\") + \"/\" + datestring[16] + \"-citibike-tripdata.csv\")"
   ]
  },
  {
   "cell_type": "code",
   "execution_count": 12,
   "metadata": {
    "collapsed": false
   },
   "outputs": [
    {
     "data": {
      "text/html": [
       "<div>\n",
       "<table border=\"1\" class=\"dataframe\">\n",
       "  <thead>\n",
       "    <tr style=\"text-align: right;\">\n",
       "      <th></th>\n",
       "      <th>tripduration</th>\n",
       "      <th>starttime</th>\n",
       "      <th>stoptime</th>\n",
       "      <th>start station id</th>\n",
       "      <th>start station name</th>\n",
       "      <th>start station latitude</th>\n",
       "      <th>start station longitude</th>\n",
       "      <th>end station id</th>\n",
       "      <th>end station name</th>\n",
       "      <th>end station latitude</th>\n",
       "      <th>end station longitude</th>\n",
       "      <th>bikeid</th>\n",
       "      <th>usertype</th>\n",
       "      <th>birth year</th>\n",
       "      <th>gender</th>\n",
       "    </tr>\n",
       "  </thead>\n",
       "  <tbody>\n",
       "    <tr>\n",
       "      <th>0</th>\n",
       "      <td>1338</td>\n",
       "      <td>6/1/2015 0:00</td>\n",
       "      <td>6/1/2015 0:22</td>\n",
       "      <td>128</td>\n",
       "      <td>MacDougal St &amp; Prince St</td>\n",
       "      <td>40.727103</td>\n",
       "      <td>-74.002971</td>\n",
       "      <td>2021</td>\n",
       "      <td>W 45 St &amp; 8 Ave</td>\n",
       "      <td>40.759291</td>\n",
       "      <td>-73.988597</td>\n",
       "      <td>20721</td>\n",
       "      <td>Subscriber</td>\n",
       "      <td>1984</td>\n",
       "      <td>1</td>\n",
       "    </tr>\n",
       "    <tr>\n",
       "      <th>1</th>\n",
       "      <td>290</td>\n",
       "      <td>6/1/2015 0:00</td>\n",
       "      <td>6/1/2015 0:05</td>\n",
       "      <td>438</td>\n",
       "      <td>St Marks Pl &amp; 1 Ave</td>\n",
       "      <td>40.727791</td>\n",
       "      <td>-73.985649</td>\n",
       "      <td>312</td>\n",
       "      <td>Allen St &amp; E Houston St</td>\n",
       "      <td>40.722055</td>\n",
       "      <td>-73.989111</td>\n",
       "      <td>21606</td>\n",
       "      <td>Subscriber</td>\n",
       "      <td>1997</td>\n",
       "      <td>1</td>\n",
       "    </tr>\n",
       "    <tr>\n",
       "      <th>2</th>\n",
       "      <td>634</td>\n",
       "      <td>6/1/2015 0:01</td>\n",
       "      <td>6/1/2015 0:11</td>\n",
       "      <td>383</td>\n",
       "      <td>Greenwich Ave &amp; Charles St</td>\n",
       "      <td>40.735238</td>\n",
       "      <td>-74.000271</td>\n",
       "      <td>388</td>\n",
       "      <td>W 26 St &amp; 10 Ave</td>\n",
       "      <td>40.749718</td>\n",
       "      <td>-74.002950</td>\n",
       "      <td>16595</td>\n",
       "      <td>Subscriber</td>\n",
       "      <td>1993</td>\n",
       "      <td>1</td>\n",
       "    </tr>\n",
       "    <tr>\n",
       "      <th>3</th>\n",
       "      <td>159</td>\n",
       "      <td>6/1/2015 0:01</td>\n",
       "      <td>6/1/2015 0:04</td>\n",
       "      <td>361</td>\n",
       "      <td>Allen St &amp; Hester St</td>\n",
       "      <td>40.716059</td>\n",
       "      <td>-73.991908</td>\n",
       "      <td>531</td>\n",
       "      <td>Forsyth St &amp; Broome St</td>\n",
       "      <td>40.718939</td>\n",
       "      <td>-73.992663</td>\n",
       "      <td>16949</td>\n",
       "      <td>Subscriber</td>\n",
       "      <td>1981</td>\n",
       "      <td>1</td>\n",
       "    </tr>\n",
       "    <tr>\n",
       "      <th>4</th>\n",
       "      <td>1233</td>\n",
       "      <td>6/1/2015 0:02</td>\n",
       "      <td>6/1/2015 0:22</td>\n",
       "      <td>382</td>\n",
       "      <td>University Pl &amp; E 14 St</td>\n",
       "      <td>40.734927</td>\n",
       "      <td>-73.992005</td>\n",
       "      <td>532</td>\n",
       "      <td>S 5 Pl &amp; S 4 St</td>\n",
       "      <td>40.710451</td>\n",
       "      <td>-73.960876</td>\n",
       "      <td>17028</td>\n",
       "      <td>Customer</td>\n",
       "      <td>NaN</td>\n",
       "      <td>0</td>\n",
       "    </tr>\n",
       "  </tbody>\n",
       "</table>\n",
       "</div>"
      ],
      "text/plain": [
       "   tripduration      starttime       stoptime  start station id  \\\n",
       "0          1338  6/1/2015 0:00  6/1/2015 0:22               128   \n",
       "1           290  6/1/2015 0:00  6/1/2015 0:05               438   \n",
       "2           634  6/1/2015 0:01  6/1/2015 0:11               383   \n",
       "3           159  6/1/2015 0:01  6/1/2015 0:04               361   \n",
       "4          1233  6/1/2015 0:02  6/1/2015 0:22               382   \n",
       "\n",
       "           start station name  start station latitude  \\\n",
       "0    MacDougal St & Prince St               40.727103   \n",
       "1         St Marks Pl & 1 Ave               40.727791   \n",
       "2  Greenwich Ave & Charles St               40.735238   \n",
       "3        Allen St & Hester St               40.716059   \n",
       "4     University Pl & E 14 St               40.734927   \n",
       "\n",
       "   start station longitude  end station id         end station name  \\\n",
       "0               -74.002971            2021          W 45 St & 8 Ave   \n",
       "1               -73.985649             312  Allen St & E Houston St   \n",
       "2               -74.000271             388         W 26 St & 10 Ave   \n",
       "3               -73.991908             531   Forsyth St & Broome St   \n",
       "4               -73.992005             532          S 5 Pl & S 4 St   \n",
       "\n",
       "   end station latitude  end station longitude  bikeid    usertype  \\\n",
       "0             40.759291             -73.988597   20721  Subscriber   \n",
       "1             40.722055             -73.989111   21606  Subscriber   \n",
       "2             40.749718             -74.002950   16595  Subscriber   \n",
       "3             40.718939             -73.992663   16949  Subscriber   \n",
       "4             40.710451             -73.960876   17028    Customer   \n",
       "\n",
       "   birth year  gender  \n",
       "0        1984       1  \n",
       "1        1997       1  \n",
       "2        1993       1  \n",
       "3        1981       1  \n",
       "4         NaN       0  "
      ]
     },
     "execution_count": 12,
     "metadata": {},
     "output_type": "execute_result"
    }
   ],
   "source": [
    "cb2015.head()"
   ]
  },
  {
   "cell_type": "code",
   "execution_count": 13,
   "metadata": {
    "collapsed": false
   },
   "outputs": [
    {
     "name": "stdout",
     "output_type": "stream",
     "text": [
      "The number of rows in the 2015 citibike dataset is 941219\n"
     ]
    }
   ],
   "source": [
    "#exract statsions. in this cell checks if it works\n",
    "latlon = (cb2015[['start station latitude', \n",
    "                'start station longitude']].values.astype(float))\n",
    "print(\"The number of rows in the 2015 citibike dataset is\", len(latlon))"
   ]
  },
  {
   "cell_type": "code",
   "execution_count": 14,
   "metadata": {
    "collapsed": true
   },
   "outputs": [],
   "source": [
    "zipcodesDF = pd.DataFrame()"
   ]
  },
  {
   "cell_type": "code",
   "execution_count": 15,
   "metadata": {
    "collapsed": false,
    "scrolled": false
   },
   "outputs": [
    {
     "name": "stderr",
     "output_type": "stream",
     "text": [
      "//anaconda/lib/python3.5/site-packages/pandas/computation/expressions.py:190: UserWarning: evaluating in Python space because the '*' operator is not supported by numexpr for the bool dtype, use '&' instead\n",
      "  unsupported[op_str]))\n",
      "//anaconda/lib/python3.5/site-packages/ipykernel/__main__.py:14: SettingWithCopyWarning: \n",
      "A value is trying to be set on a copy of a slice from a DataFrame\n",
      "\n",
      "See the caveats in the documentation: http://pandas.pydata.org/pandas-docs/stable/indexing.html#indexing-view-versus-copy\n",
      "//anaconda/lib/python3.5/site-packages/pandas/core/internals.py:4417: FutureWarning: elementwise comparison failed; returning scalar instead, but in the future will perform elementwise comparison\n",
      "  comp = (nn == nn_at)\n"
     ]
    },
    {
     "data": {
      "text/html": [
       "<div>\n",
       "<table border=\"1\" class=\"dataframe\">\n",
       "  <thead>\n",
       "    <tr style=\"text-align: right;\">\n",
       "      <th></th>\n",
       "      <th>tripduration</th>\n",
       "      <th>starttime</th>\n",
       "      <th>stoptime</th>\n",
       "      <th>start station id</th>\n",
       "      <th>start station name</th>\n",
       "      <th>start station latitude</th>\n",
       "      <th>start station longitude</th>\n",
       "      <th>end station id</th>\n",
       "      <th>end station name</th>\n",
       "      <th>end station latitude</th>\n",
       "      <th>end station longitude</th>\n",
       "      <th>bikeid</th>\n",
       "      <th>usertype</th>\n",
       "      <th>birth year</th>\n",
       "      <th>gender</th>\n",
       "      <th>zipcodes</th>\n",
       "    </tr>\n",
       "  </thead>\n",
       "  <tbody>\n",
       "    <tr>\n",
       "      <th>0</th>\n",
       "      <td>1338</td>\n",
       "      <td>6/1/2015 0:00</td>\n",
       "      <td>6/1/2015 0:22</td>\n",
       "      <td>128</td>\n",
       "      <td>MacDougal St &amp; Prince St</td>\n",
       "      <td>40.727103</td>\n",
       "      <td>-74.002971</td>\n",
       "      <td>2021</td>\n",
       "      <td>W 45 St &amp; 8 Ave</td>\n",
       "      <td>40.759291</td>\n",
       "      <td>-73.988597</td>\n",
       "      <td>20721</td>\n",
       "      <td>Subscriber</td>\n",
       "      <td>1984</td>\n",
       "      <td>1</td>\n",
       "      <td>2926</td>\n",
       "    </tr>\n",
       "    <tr>\n",
       "      <th>1</th>\n",
       "      <td>290</td>\n",
       "      <td>6/1/2015 0:00</td>\n",
       "      <td>6/1/2015 0:05</td>\n",
       "      <td>438</td>\n",
       "      <td>St Marks Pl &amp; 1 Ave</td>\n",
       "      <td>40.727791</td>\n",
       "      <td>-73.985649</td>\n",
       "      <td>312</td>\n",
       "      <td>Allen St &amp; E Houston St</td>\n",
       "      <td>40.722055</td>\n",
       "      <td>-73.989111</td>\n",
       "      <td>21606</td>\n",
       "      <td>Subscriber</td>\n",
       "      <td>1997</td>\n",
       "      <td>1</td>\n",
       "      <td>10003</td>\n",
       "    </tr>\n",
       "    <tr>\n",
       "      <th>2</th>\n",
       "      <td>634</td>\n",
       "      <td>6/1/2015 0:01</td>\n",
       "      <td>6/1/2015 0:11</td>\n",
       "      <td>383</td>\n",
       "      <td>Greenwich Ave &amp; Charles St</td>\n",
       "      <td>40.735238</td>\n",
       "      <td>-74.000271</td>\n",
       "      <td>388</td>\n",
       "      <td>W 26 St &amp; 10 Ave</td>\n",
       "      <td>40.749718</td>\n",
       "      <td>-74.002950</td>\n",
       "      <td>16595</td>\n",
       "      <td>Subscriber</td>\n",
       "      <td>1993</td>\n",
       "      <td>1</td>\n",
       "      <td>10011</td>\n",
       "    </tr>\n",
       "    <tr>\n",
       "      <th>3</th>\n",
       "      <td>159</td>\n",
       "      <td>6/1/2015 0:01</td>\n",
       "      <td>6/1/2015 0:04</td>\n",
       "      <td>361</td>\n",
       "      <td>Allen St &amp; Hester St</td>\n",
       "      <td>40.716059</td>\n",
       "      <td>-73.991908</td>\n",
       "      <td>531</td>\n",
       "      <td>Forsyth St &amp; Broome St</td>\n",
       "      <td>40.718939</td>\n",
       "      <td>-73.992663</td>\n",
       "      <td>16949</td>\n",
       "      <td>Subscriber</td>\n",
       "      <td>1981</td>\n",
       "      <td>1</td>\n",
       "      <td>5416</td>\n",
       "    </tr>\n",
       "    <tr>\n",
       "      <th>4</th>\n",
       "      <td>1233</td>\n",
       "      <td>6/1/2015 0:02</td>\n",
       "      <td>6/1/2015 0:22</td>\n",
       "      <td>382</td>\n",
       "      <td>University Pl &amp; E 14 St</td>\n",
       "      <td>40.734927</td>\n",
       "      <td>-73.992005</td>\n",
       "      <td>532</td>\n",
       "      <td>S 5 Pl &amp; S 4 St</td>\n",
       "      <td>40.710451</td>\n",
       "      <td>-73.960876</td>\n",
       "      <td>17028</td>\n",
       "      <td>Customer</td>\n",
       "      <td>NaN</td>\n",
       "      <td>0</td>\n",
       "      <td>4510</td>\n",
       "    </tr>\n",
       "  </tbody>\n",
       "</table>\n",
       "</div>"
      ],
      "text/plain": [
       "   tripduration      starttime       stoptime  start station id  \\\n",
       "0          1338  6/1/2015 0:00  6/1/2015 0:22               128   \n",
       "1           290  6/1/2015 0:00  6/1/2015 0:05               438   \n",
       "2           634  6/1/2015 0:01  6/1/2015 0:11               383   \n",
       "3           159  6/1/2015 0:01  6/1/2015 0:04               361   \n",
       "4          1233  6/1/2015 0:02  6/1/2015 0:22               382   \n",
       "\n",
       "           start station name  start station latitude  \\\n",
       "0    MacDougal St & Prince St               40.727103   \n",
       "1         St Marks Pl & 1 Ave               40.727791   \n",
       "2  Greenwich Ave & Charles St               40.735238   \n",
       "3        Allen St & Hester St               40.716059   \n",
       "4     University Pl & E 14 St               40.734927   \n",
       "\n",
       "   start station longitude  end station id         end station name  \\\n",
       "0               -74.002971            2021          W 45 St & 8 Ave   \n",
       "1               -73.985649             312  Allen St & E Houston St   \n",
       "2               -74.000271             388         W 26 St & 10 Ave   \n",
       "3               -73.991908             531   Forsyth St & Broome St   \n",
       "4               -73.992005             532          S 5 Pl & S 4 St   \n",
       "\n",
       "   end station latitude  end station longitude  bikeid    usertype  \\\n",
       "0             40.759291             -73.988597   20721  Subscriber   \n",
       "1             40.722055             -73.989111   21606  Subscriber   \n",
       "2             40.749718             -74.002950   16595  Subscriber   \n",
       "3             40.718939             -73.992663   16949  Subscriber   \n",
       "4             40.710451             -73.960876   17028    Customer   \n",
       "\n",
       "   birth year  gender  zipcodes  \n",
       "0        1984       1      2926  \n",
       "1        1997       1     10003  \n",
       "2        1993       1     10011  \n",
       "3        1981       1      5416  \n",
       "4         NaN       0      4510  "
      ]
     },
     "execution_count": 15,
     "metadata": {},
     "output_type": "execute_result"
    }
   ],
   "source": [
    "#this cells reverse geocodes coordinates to zip codes\n",
    "cb2015['zipcodes'] = np.zeros(len(cb2015))\n",
    "for ll in pd.DataFrame(latlon).drop_duplicates().values:\n",
    "    url = (\"https://maps.googleapis.com/maps/api/geocode/json?latlng=\" +\n",
    "           \"%f,%f&key=%s\"%(\n",
    "            ll[0], ll[1], os.getenv('GOOGLEAPI')))\n",
    "    #print (\"https://maps.googleapis.com/maps/api/geocode/json?latlng=\" +\n",
    "    #       \"%f,%f&key=%s\"%(\n",
    "    #        ll[0], ll[1], os.getenv('GOOGLEAPI')))\n",
    "    #print (get_jsonparsed_data(url))\n",
    "    revgeo = get_jsonparsed_data(url)[\"results\"][0]['address_components'][-1]\n",
    "    #print (revgeo)\n",
    "    cb2015['zipcodes'][(cb2015['start station latitude'] == ll[0]) * \n",
    "           (cb2015['start station longitude'] == ll[1])] = revgeo['long_name']\n",
    "cb2015['zipcodes'] = pd.to_numeric(cb2015['zipcodes'], errors='coerce')\n",
    "cb2015.head()"
   ]
  },
  {
   "cell_type": "raw",
   "metadata": {},
   "source": [
    "#alternative\n",
    "stid2zip = get_jsonparsed_data(\"http://cosmo.nyu.edu/~fb55/UI_CUSP_2015/data/stationsZips2015.json\")\n",
    "cb2015['zipcodes'] = cb2015['start station id'].astype(str).map(stid2zip)"
   ]
  },
  {
   "cell_type": "code",
   "execution_count": 16,
   "metadata": {
    "collapsed": false
   },
   "outputs": [],
   "source": [
    "# trowing away some bad data\n",
    "cb2015 = cb2015[cb2015['zipcodes'] >= 10000]"
   ]
  },
  {
   "cell_type": "markdown",
   "metadata": {},
   "source": [
    "## get rides by zip"
   ]
  },
  {
   "cell_type": "code",
   "execution_count": 17,
   "metadata": {
    "collapsed": false
   },
   "outputs": [],
   "source": [
    "#group the rides by zipcode\n",
    "# I want number of rows per zipcode so I use .count()\n",
    "cbgroup15 = cb2015.groupby('zipcodes', as_index=False).count()"
   ]
  },
  {
   "cell_type": "markdown",
   "metadata": {},
   "source": [
    "## merge"
   ]
  },
  {
   "cell_type": "code",
   "execution_count": 18,
   "metadata": {
    "collapsed": false
   },
   "outputs": [
    {
     "data": {
      "text/html": [
       "<div>\n",
       "<table border=\"1\" class=\"dataframe\">\n",
       "  <thead>\n",
       "    <tr style=\"text-align: right;\">\n",
       "      <th></th>\n",
       "      <th>zipcodes</th>\n",
       "      <th>tripduration</th>\n",
       "      <th>income</th>\n",
       "      <th>N</th>\n",
       "      <th>Njoint</th>\n",
       "      <th>Ndeps</th>\n",
       "      <th>incomePC</th>\n",
       "    </tr>\n",
       "  </thead>\n",
       "  <tbody>\n",
       "    <tr>\n",
       "      <th>0</th>\n",
       "      <td>10001</td>\n",
       "      <td>51691</td>\n",
       "      <td>2363960</td>\n",
       "      <td>14080</td>\n",
       "      <td>2410</td>\n",
       "      <td>3250</td>\n",
       "      <td>119.754813</td>\n",
       "    </tr>\n",
       "    <tr>\n",
       "      <th>1</th>\n",
       "      <td>10002</td>\n",
       "      <td>45970</td>\n",
       "      <td>2215542</td>\n",
       "      <td>43370</td>\n",
       "      <td>11040</td>\n",
       "      <td>19160</td>\n",
       "      <td>30.114748</td>\n",
       "    </tr>\n",
       "    <tr>\n",
       "      <th>2</th>\n",
       "      <td>10003</td>\n",
       "      <td>74663</td>\n",
       "      <td>6910992</td>\n",
       "      <td>29810</td>\n",
       "      <td>5460</td>\n",
       "      <td>4790</td>\n",
       "      <td>172.516026</td>\n",
       "    </tr>\n",
       "    <tr>\n",
       "      <th>3</th>\n",
       "      <td>10004</td>\n",
       "      <td>13698</td>\n",
       "      <td>925417</td>\n",
       "      <td>2540</td>\n",
       "      <td>840</td>\n",
       "      <td>1130</td>\n",
       "      <td>205.192239</td>\n",
       "    </tr>\n",
       "    <tr>\n",
       "      <th>4</th>\n",
       "      <td>10005</td>\n",
       "      <td>9631</td>\n",
       "      <td>5545849</td>\n",
       "      <td>5890</td>\n",
       "      <td>1340</td>\n",
       "      <td>1340</td>\n",
       "      <td>647.123571</td>\n",
       "    </tr>\n",
       "  </tbody>\n",
       "</table>\n",
       "</div>"
      ],
      "text/plain": [
       "   zipcodes  tripduration   income      N  Njoint  Ndeps    incomePC\n",
       "0     10001         51691  2363960  14080    2410   3250  119.754813\n",
       "1     10002         45970  2215542  43370   11040  19160   30.114748\n",
       "2     10003         74663  6910992  29810    5460   4790  172.516026\n",
       "3     10004         13698   925417   2540     840   1130  205.192239\n",
       "4     10005          9631  5545849   5890    1340   1340  647.123571"
      ]
     },
     "execution_count": 18,
     "metadata": {},
     "output_type": "execute_result"
    }
   ],
   "source": [
    "#merge rides and income and drop all but one citibike columns\n",
    "cbincome2015 = pd.merge(cbgroup15, zipincome, on=\"zipcodes\", how=\"inner\").drop(cbgroup15.columns[2:], axis=1)\n",
    "cbincome2015.head()"
   ]
  },
  {
   "cell_type": "code",
   "execution_count": 19,
   "metadata": {
    "collapsed": false
   },
   "outputs": [
    {
     "data": {
      "text/html": [
       "<div>\n",
       "<table border=\"1\" class=\"dataframe\">\n",
       "  <thead>\n",
       "    <tr style=\"text-align: right;\">\n",
       "      <th></th>\n",
       "      <th>zipcodes</th>\n",
       "      <th>Nrides</th>\n",
       "      <th>income</th>\n",
       "      <th>N</th>\n",
       "      <th>Njoint</th>\n",
       "      <th>Ndeps</th>\n",
       "      <th>incomePC</th>\n",
       "    </tr>\n",
       "  </thead>\n",
       "  <tbody>\n",
       "    <tr>\n",
       "      <th>0</th>\n",
       "      <td>10001</td>\n",
       "      <td>51691</td>\n",
       "      <td>2363960</td>\n",
       "      <td>14080</td>\n",
       "      <td>2410</td>\n",
       "      <td>3250</td>\n",
       "      <td>119.754813</td>\n",
       "    </tr>\n",
       "    <tr>\n",
       "      <th>1</th>\n",
       "      <td>10002</td>\n",
       "      <td>45970</td>\n",
       "      <td>2215542</td>\n",
       "      <td>43370</td>\n",
       "      <td>11040</td>\n",
       "      <td>19160</td>\n",
       "      <td>30.114748</td>\n",
       "    </tr>\n",
       "    <tr>\n",
       "      <th>2</th>\n",
       "      <td>10003</td>\n",
       "      <td>74663</td>\n",
       "      <td>6910992</td>\n",
       "      <td>29810</td>\n",
       "      <td>5460</td>\n",
       "      <td>4790</td>\n",
       "      <td>172.516026</td>\n",
       "    </tr>\n",
       "    <tr>\n",
       "      <th>3</th>\n",
       "      <td>10004</td>\n",
       "      <td>13698</td>\n",
       "      <td>925417</td>\n",
       "      <td>2540</td>\n",
       "      <td>840</td>\n",
       "      <td>1130</td>\n",
       "      <td>205.192239</td>\n",
       "    </tr>\n",
       "    <tr>\n",
       "      <th>4</th>\n",
       "      <td>10005</td>\n",
       "      <td>9631</td>\n",
       "      <td>5545849</td>\n",
       "      <td>5890</td>\n",
       "      <td>1340</td>\n",
       "      <td>1340</td>\n",
       "      <td>647.123571</td>\n",
       "    </tr>\n",
       "  </tbody>\n",
       "</table>\n",
       "</div>"
      ],
      "text/plain": [
       "   zipcodes  Nrides   income      N  Njoint  Ndeps    incomePC\n",
       "0     10001   51691  2363960  14080    2410   3250  119.754813\n",
       "1     10002   45970  2215542  43370   11040  19160   30.114748\n",
       "2     10003   74663  6910992  29810    5460   4790  172.516026\n",
       "3     10004   13698   925417   2540     840   1130  205.192239\n",
       "4     10005    9631  5545849   5890    1340   1340  647.123571"
      ]
     },
     "execution_count": 19,
     "metadata": {},
     "output_type": "execute_result"
    }
   ],
   "source": [
    "cbincome2015.rename(columns={\"tripduration\":\"Nrides\"}, inplace=True)\n",
    "# ths is the final dataset\n",
    "cbincome2015.head()"
   ]
  },
  {
   "cell_type": "markdown",
   "metadata": {},
   "source": [
    "# ANALYSIS"
   ]
  },
  {
   "cell_type": "code",
   "execution_count": 20,
   "metadata": {
    "collapsed": false
   },
   "outputs": [
    {
     "data": {
      "text/plain": [
       "Text(0,0.5,'Number of rides')"
      ]
     },
     "execution_count": 20,
     "metadata": {},
     "output_type": "execute_result"
    },
    {
     "data": {
      "image/png": "[encoded data removed]",
      "text/plain": [
       "<matplotlib.figure.Figure at 0x11e7ca748>"
      ]
     },
     "metadata": {},
     "output_type": "display_data"
    }
   ],
   "source": [
    "# plotting data\n",
    "ax = pl.figure(figsize=(10,5)).add_subplot(111)\n",
    "ax.plot(cbincome2015['income'], cbincome2015['Nrides'], 'o', label=\"06/2015\")\n",
    "ax.set_xlabel(\"AGI ($)\", fontsize=18)\n",
    "ax.set_ylabel(\"Number of rides\", fontsize=18)\n"
   ]
  },
  {
   "cell_type": "markdown",
   "metadata": {},
   "source": [
    "### Figure 1: Number of Citibike Rides in 2015/06 as a function of Adjusted Gross Income aggregated at the zipcode level (blue dots)."
   ]
  },
  {
   "cell_type": "code",
   "execution_count": 21,
   "metadata": {
    "collapsed": false
   },
   "outputs": [
    {
     "data": {
      "text/html": [
       "<table class=\"simpletable\">\n",
       "<caption>OLS Regression Results</caption>\n",
       "<tr>\n",
       "  <th>Dep. Variable:</th>         <td>Nrides</td>      <th>  R-squared:         </th> <td>   0.103</td>\n",
       "</tr>\n",
       "<tr>\n",
       "  <th>Model:</th>                   <td>OLS</td>       <th>  Adj. R-squared:    </th> <td>   0.070</td>\n",
       "</tr>\n",
       "<tr>\n",
       "  <th>Method:</th>             <td>Least Squares</td>  <th>  F-statistic:       </th> <td>   3.097</td>\n",
       "</tr>\n",
       "<tr>\n",
       "  <th>Date:</th>             <td>Tue, 08 Nov 2016</td> <th>  Prob (F-statistic):</th>  <td>0.0898</td> \n",
       "</tr>\n",
       "<tr>\n",
       "  <th>Time:</th>                 <td>22:37:28</td>     <th>  Log-Likelihood:    </th> <td> -327.46</td>\n",
       "</tr>\n",
       "<tr>\n",
       "  <th>No. Observations:</th>      <td>    29</td>      <th>  AIC:               </th> <td>   658.9</td>\n",
       "</tr>\n",
       "<tr>\n",
       "  <th>Df Residuals:</th>          <td>    27</td>      <th>  BIC:               </th> <td>   661.7</td>\n",
       "</tr>\n",
       "<tr>\n",
       "  <th>Df Model:</th>              <td>     1</td>      <th>                     </th>     <td> </td>   \n",
       "</tr>\n",
       "<tr>\n",
       "  <th>Covariance Type:</th>      <td>nonrobust</td>    <th>                     </th>     <td> </td>   \n",
       "</tr>\n",
       "</table>\n",
       "<table class=\"simpletable\">\n",
       "<tr>\n",
       "      <td></td>         <th>coef</th>     <th>std err</th>      <th>t</th>      <th>P>|t|</th> <th>[95.0% Conf. Int.]</th> \n",
       "</tr>\n",
       "<tr>\n",
       "  <th>Intercept</th> <td> 1.634e+04</td> <td> 6128.231</td> <td>    2.667</td> <td> 0.013</td> <td> 3767.857  2.89e+04</td>\n",
       "</tr>\n",
       "<tr>\n",
       "  <th>income</th>    <td>    0.0021</td> <td>    0.001</td> <td>    1.760</td> <td> 0.090</td> <td>   -0.000     0.005</td>\n",
       "</tr>\n",
       "</table>\n",
       "<table class=\"simpletable\">\n",
       "<tr>\n",
       "  <th>Omnibus:</th>       <td> 3.771</td> <th>  Durbin-Watson:     </th> <td>   1.213</td>\n",
       "</tr>\n",
       "<tr>\n",
       "  <th>Prob(Omnibus):</th> <td> 0.152</td> <th>  Jarque-Bera (JB):  </th> <td>   2.629</td>\n",
       "</tr>\n",
       "<tr>\n",
       "  <th>Skew:</th>          <td> 0.730</td> <th>  Prob(JB):          </th> <td>   0.269</td>\n",
       "</tr>\n",
       "<tr>\n",
       "  <th>Kurtosis:</th>      <td> 3.212</td> <th>  Cond. No.          </th> <td>8.45e+06</td>\n",
       "</tr>\n",
       "</table>"
      ],
      "text/plain": [
       "<class 'statsmodels.iolib.summary.Summary'>\n",
       "\"\"\"\n",
       "                            OLS Regression Results                            \n",
       "==============================================================================\n",
       "Dep. Variable:                 Nrides   R-squared:                       0.103\n",
       "Model:                            OLS   Adj. R-squared:                  0.070\n",
       "Method:                 Least Squares   F-statistic:                     3.097\n",
       "Date:                Tue, 08 Nov 2016   Prob (F-statistic):             0.0898\n",
       "Time:                        22:37:28   Log-Likelihood:                -327.46\n",
       "No. Observations:                  29   AIC:                             658.9\n",
       "Df Residuals:                      27   BIC:                             661.7\n",
       "Df Model:                           1                                         \n",
       "Covariance Type:            nonrobust                                         \n",
       "==============================================================================\n",
       "                 coef    std err          t      P>|t|      [95.0% Conf. Int.]\n",
       "------------------------------------------------------------------------------\n",
       "Intercept   1.634e+04   6128.231      2.667      0.013      3767.857  2.89e+04\n",
       "income         0.0021      0.001      1.760      0.090        -0.000     0.005\n",
       "==============================================================================\n",
       "Omnibus:                        3.771   Durbin-Watson:                   1.213\n",
       "Prob(Omnibus):                  0.152   Jarque-Bera (JB):                2.629\n",
       "Skew:                           0.730   Prob(JB):                        0.269\n",
       "Kurtosis:                       3.212   Cond. No.                     8.45e+06\n",
       "==============================================================================\n",
       "\n",
       "Warnings:\n",
       "[1] Standard Errors assume that the covariance matrix of the errors is correctly specified.\n",
       "[2] The condition number is large, 8.45e+06. This might indicate that there are\n",
       "strong multicollinearity or other numerical problems.\n",
       "\"\"\""
      ]
     },
     "execution_count": 21,
     "metadata": {},
     "output_type": "execute_result"
    },
    {
     "data": {
      "image/png": "[encoded data removed]",
      "text/plain": [
       "<matplotlib.figure.Figure at 0x11e7cae80>"
      ]
     },
     "metadata": {},
     "output_type": "display_data"
    }
   ],
   "source": [
    "# fit line to data\n",
    "linmodel2015 = smf.ols(formula = 'Nrides ~ income', data = cbincome2015).fit()\n",
    "\n",
    "#plot\n",
    "ax = pl.figure(figsize=(10,5)).add_subplot(111)\n",
    "ax.plot(cbincome2015['income'], cbincome2015['Nrides'], 'o', label=\"06/2015\")\n",
    "\n",
    "ax.plot(np.linspace(cbincome2015.income.min(), cbincome2015.income.max(), 100), \n",
    "        linmodel2015.predict(exog = dict(income=np.linspace(cbincome2015.income.min(), \n",
    "                                                        cbincome2015.income.max(),100))), \n",
    "        label=\"Line Fit\")\n",
    "ax.set_xlabel(\"AGI ($)\", fontsize=18)\n",
    "ax.set_ylabel(\"Number of rides\", fontsize=18)\n",
    "ax.legend(fontsize=18)\n",
    "\n",
    "#fit summary\n",
    "linmodel2015.summary()"
   ]
  },
  {
   "cell_type": "markdown",
   "metadata": {},
   "source": [
    "### Figure 2: Number of Citibike Rides in 2015/06 as a function of Adjusted Gross Income aggregated at the zipcode level (blue dots). The orange line is a line fit obtained with ordinary least square (OLS) method (fit summary above). The model explains less than 10% of the variance in the data."
   ]
  },
  {
   "cell_type": "markdown",
   "metadata": {},
   "source": [
    "### selecting outliers to improve the fit"
   ]
  },
  {
   "cell_type": "code",
   "execution_count": 22,
   "metadata": {
    "collapsed": false,
    "scrolled": true
   },
   "outputs": [
    {
     "data": {
      "image/png": "[encoded data removed]",
      "text/plain": [
       "<matplotlib.figure.Figure at 0x1159a80b8>"
      ]
     },
     "metadata": {},
     "output_type": "display_data"
    }
   ],
   "source": [
    "tmp = sm.graphics.influence_plot(linmodel2015)"
   ]
  },
  {
   "cell_type": "markdown",
   "metadata": {},
   "source": [
    "### Figure 3:  Influence plot of the OLS line fit to number of citibike rides as a function of AGI. This plots guides the choice of outliers: the points at index 17 and 18 have the largerst influence on the fit."
   ]
  },
  {
   "cell_type": "code",
   "execution_count": 23,
   "metadata": {
    "collapsed": false
   },
   "outputs": [
    {
     "name": "stdout",
     "output_type": "stream",
     "text": [
      "The two datapoints with highest influence on the linear fit\n"
     ]
    },
    {
     "data": {
      "text/html": [
       "<div>\n",
       "<table border=\"1\" class=\"dataframe\">\n",
       "  <thead>\n",
       "    <tr style=\"text-align: right;\">\n",
       "      <th></th>\n",
       "      <th>zipcodes</th>\n",
       "      <th>Nrides</th>\n",
       "      <th>income</th>\n",
       "      <th>N</th>\n",
       "      <th>Njoint</th>\n",
       "      <th>Ndeps</th>\n",
       "      <th>incomePC</th>\n",
       "    </tr>\n",
       "  </thead>\n",
       "  <tbody>\n",
       "    <tr>\n",
       "      <th>17</th>\n",
       "      <td>10022</td>\n",
       "      <td>15831</td>\n",
       "      <td>12325088</td>\n",
       "      <td>20130</td>\n",
       "      <td>5550</td>\n",
       "      <td>4620</td>\n",
       "      <td>406.768581</td>\n",
       "    </tr>\n",
       "    <tr>\n",
       "      <th>18</th>\n",
       "      <td>10023</td>\n",
       "      <td>6832</td>\n",
       "      <td>12398465</td>\n",
       "      <td>33720</td>\n",
       "      <td>9440</td>\n",
       "      <td>9580</td>\n",
       "      <td>235.086557</td>\n",
       "    </tr>\n",
       "  </tbody>\n",
       "</table>\n",
       "</div>"
      ],
      "text/plain": [
       "    zipcodes  Nrides    income      N  Njoint  Ndeps    incomePC\n",
       "17     10022   15831  12325088  20130    5550   4620  406.768581\n",
       "18     10023    6832  12398465  33720    9440   9580  235.086557"
      ]
     },
     "execution_count": 23,
     "metadata": {},
     "output_type": "execute_result"
    }
   ],
   "source": [
    "print (\"The two datapoints with highest influence on the linear fit\")\n",
    "cbincome2015.iloc[[17,18]]"
   ]
  },
  {
   "cell_type": "code",
   "execution_count": 24,
   "metadata": {
    "collapsed": false
   },
   "outputs": [
    {
     "name": "stdout",
     "output_type": "stream",
     "text": [
      "The two datapoints with highest influence on the linear fit have income > $1.2e7\n",
      "    zipcodes  Nrides    income      N  Njoint  Ndeps    incomePC\n",
      "17     10022   15831  12325088  20130    5550   4620  406.768581\n",
      "18     10023    6832  12398465  33720    9440   9580  235.086557\n"
     ]
    }
   ],
   "source": [
    "print (\"The two datapoints with highest influence on the linear fit have income > $1.2e7\")\n",
    "print(cbincome2015[cbincome2015.income>1.2e7])"
   ]
  },
  {
   "cell_type": "markdown",
   "metadata": {},
   "source": [
    "### The high influence points are high income low rides points, located in the bottom right of the plot. They are the only 2 points with AGI > $1.2e7"
   ]
  },
  {
   "cell_type": "code",
   "execution_count": 22,
   "metadata": {
    "collapsed": false
   },
   "outputs": [
    {
     "data": {
      "text/html": [
       "<table class=\"simpletable\">\n",
       "<caption>OLS Regression Results</caption>\n",
       "<tr>\n",
       "  <th>Dep. Variable:</th>         <td>Nrides</td>      <th>  R-squared:         </th> <td>   0.435</td>\n",
       "</tr>\n",
       "<tr>\n",
       "  <th>Model:</th>                   <td>OLS</td>       <th>  Adj. R-squared:    </th> <td>   0.412</td>\n",
       "</tr>\n",
       "<tr>\n",
       "  <th>Method:</th>             <td>Least Squares</td>  <th>  F-statistic:       </th> <td>   19.21</td>\n",
       "</tr>\n",
       "<tr>\n",
       "  <th>Date:</th>             <td>Tue, 08 Nov 2016</td> <th>  Prob (F-statistic):</th> <td>0.000184</td>\n",
       "</tr>\n",
       "<tr>\n",
       "  <th>Time:</th>                 <td>22:38:09</td>     <th>  Log-Likelihood:    </th> <td> -299.12</td>\n",
       "</tr>\n",
       "<tr>\n",
       "  <th>No. Observations:</th>      <td>    27</td>      <th>  AIC:               </th> <td>   602.2</td>\n",
       "</tr>\n",
       "<tr>\n",
       "  <th>Df Residuals:</th>          <td>    25</td>      <th>  BIC:               </th> <td>   604.8</td>\n",
       "</tr>\n",
       "<tr>\n",
       "  <th>Df Model:</th>              <td>     1</td>      <th>                     </th>     <td> </td>   \n",
       "</tr>\n",
       "<tr>\n",
       "  <th>Covariance Type:</th>      <td>nonrobust</td>    <th>                     </th>     <td> </td>   \n",
       "</tr>\n",
       "</table>\n",
       "<table class=\"simpletable\">\n",
       "<tr>\n",
       "      <td></td>         <th>coef</th>     <th>std err</th>      <th>t</th>      <th>P>|t|</th> <th>[95.0% Conf. Int.]</th> \n",
       "</tr>\n",
       "<tr>\n",
       "  <th>Intercept</th> <td> 4821.5398</td> <td> 5740.298</td> <td>    0.840</td> <td> 0.409</td> <td>-7000.825  1.66e+04</td>\n",
       "</tr>\n",
       "<tr>\n",
       "  <th>income</th>    <td>    0.0061</td> <td>    0.001</td> <td>    4.383</td> <td> 0.000</td> <td>    0.003     0.009</td>\n",
       "</tr>\n",
       "</table>\n",
       "<table class=\"simpletable\">\n",
       "<tr>\n",
       "  <th>Omnibus:</th>       <td> 1.613</td> <th>  Durbin-Watson:     </th> <td>   1.254</td>\n",
       "</tr>\n",
       "<tr>\n",
       "  <th>Prob(Omnibus):</th> <td> 0.447</td> <th>  Jarque-Bera (JB):  </th> <td>   1.418</td>\n",
       "</tr>\n",
       "<tr>\n",
       "  <th>Skew:</th>          <td> 0.519</td> <th>  Prob(JB):          </th> <td>   0.492</td>\n",
       "</tr>\n",
       "<tr>\n",
       "  <th>Kurtosis:</th>      <td> 2.572</td> <th>  Cond. No.          </th> <td>7.59e+06</td>\n",
       "</tr>\n",
       "</table>"
      ],
      "text/plain": [
       "<class 'statsmodels.iolib.summary.Summary'>\n",
       "\"\"\"\n",
       "                            OLS Regression Results                            \n",
       "==============================================================================\n",
       "Dep. Variable:                 Nrides   R-squared:                       0.435\n",
       "Model:                            OLS   Adj. R-squared:                  0.412\n",
       "Method:                 Least Squares   F-statistic:                     19.21\n",
       "Date:                Tue, 08 Nov 2016   Prob (F-statistic):           0.000184\n",
       "Time:                        22:38:09   Log-Likelihood:                -299.12\n",
       "No. Observations:                  27   AIC:                             602.2\n",
       "Df Residuals:                      25   BIC:                             604.8\n",
       "Df Model:                           1                                         \n",
       "Covariance Type:            nonrobust                                         \n",
       "==============================================================================\n",
       "                 coef    std err          t      P>|t|      [95.0% Conf. Int.]\n",
       "------------------------------------------------------------------------------\n",
       "Intercept   4821.5398   5740.298      0.840      0.409     -7000.825  1.66e+04\n",
       "income         0.0061      0.001      4.383      0.000         0.003     0.009\n",
       "==============================================================================\n",
       "Omnibus:                        1.613   Durbin-Watson:                   1.254\n",
       "Prob(Omnibus):                  0.447   Jarque-Bera (JB):                1.418\n",
       "Skew:                           0.519   Prob(JB):                        0.492\n",
       "Kurtosis:                       2.572   Cond. No.                     7.59e+06\n",
       "==============================================================================\n",
       "\n",
       "Warnings:\n",
       "[1] Standard Errors assume that the covariance matrix of the errors is correctly specified.\n",
       "[2] The condition number is large, 7.59e+06. This might indicate that there are\n",
       "strong multicollinearity or other numerical problems.\n",
       "\"\"\""
      ]
     },
     "execution_count": 22,
     "metadata": {},
     "output_type": "execute_result"
    },
    {
     "data": {
      "image/png": "[encoded data removed]",
      "text/plain": [
       "<matplotlib.figure.Figure at 0x119449fd0>"
      ]
     },
     "metadata": {},
     "output_type": "display_data"
    }
   ],
   "source": [
    "# reducting the data by cutting on income ,1.2e7\n",
    "# fit line to refucted data\n",
    "linmodel_cut2015 = smf.ols(formula = 'Nrides ~ income', data = cbincome2015[cbincome2015.income<1.2e7]).fit()\n",
    "\n",
    "ax = pl.figure(figsize=(10,5)).add_subplot(111)\n",
    "ax.plot(cbincome2015['income'], cbincome2015['Nrides'], 'o', color=\"IndianRed\",  label=\"06/2015\")\n",
    "ax.plot(cbincome2015[cbincome2015.income<1.2e7]['income'], \n",
    "        cbincome2015[cbincome2015.income<1.2e7]['Nrides'], 'o', label=\"outliers\")\n",
    "\n",
    "ax.plot(np.linspace(cbincome2015.income.min(), cbincome2015.income.max(), 100), \n",
    "        linmodel2015.predict(exog = dict(income=np.linspace(cbincome2015.income.min(), \n",
    "                                                        cbincome2015.income.max(),100))), \n",
    "        label=\"Line Fit\")\n",
    "ax.plot(np.linspace(cbincome2015.income.min(), cbincome2015.income.max(), 100), \n",
    "        linmodel_cut2015.predict(exog = dict(income=np.linspace(cbincome2015.income.min(), \n",
    "                                                        cbincome2015.income.max(),100))), \n",
    "        label=\"Line Fit - no outliers\", color=\"DarkGreen\")\n",
    "ax.set_xlabel(\"AGI ($)\", fontsize=18)\n",
    "ax.set_ylabel(\"Number of rides\", fontsize=18)\n",
    "ax.legend(fontsize=15, loc=2)\n",
    "\n",
    "# fit summary\n",
    "linmodel_cut2015.summary()"
   ]
  },
  {
   "cell_type": "markdown",
   "metadata": {},
   "source": [
    "### Figure 3: As Figure 1, but with two outliers, identified by their influence on the line fit, plotted as red dots, and with the OLS line fit to the reducted data (green line). The variance explained by a line fit increased from ~10% to ~40%. The slope changed from 0.02/dollar to 0.06/dollar."
   ]
  },
  {
   "cell_type": "code",
   "execution_count": 23,
   "metadata": {
    "collapsed": false
   },
   "outputs": [
    {
     "data": {
      "text/html": [
       "<table class=\"simpletable\">\n",
       "<caption>OLS Regression Results</caption>\n",
       "<tr>\n",
       "  <th>Dep. Variable:</th>         <td>Nrides</td>      <th>  R-squared:         </th> <td>   0.452</td>\n",
       "</tr>\n",
       "<tr>\n",
       "  <th>Model:</th>                   <td>OLS</td>       <th>  Adj. R-squared:    </th> <td>   0.406</td>\n",
       "</tr>\n",
       "<tr>\n",
       "  <th>Method:</th>             <td>Least Squares</td>  <th>  F-statistic:       </th> <td>   9.880</td>\n",
       "</tr>\n",
       "<tr>\n",
       "  <th>Date:</th>             <td>Tue, 08 Nov 2016</td> <th>  Prob (F-statistic):</th> <td>0.000741</td>\n",
       "</tr>\n",
       "<tr>\n",
       "  <th>Time:</th>                 <td>22:38:28</td>     <th>  Log-Likelihood:    </th> <td> -298.71</td>\n",
       "</tr>\n",
       "<tr>\n",
       "  <th>No. Observations:</th>      <td>    27</td>      <th>  AIC:               </th> <td>   603.4</td>\n",
       "</tr>\n",
       "<tr>\n",
       "  <th>Df Residuals:</th>          <td>    24</td>      <th>  BIC:               </th> <td>   607.3</td>\n",
       "</tr>\n",
       "<tr>\n",
       "  <th>Df Model:</th>              <td>     2</td>      <th>                     </th>     <td> </td>   \n",
       "</tr>\n",
       "<tr>\n",
       "  <th>Covariance Type:</th>      <td>nonrobust</td>    <th>                     </th>     <td> </td>   \n",
       "</tr>\n",
       "</table>\n",
       "<table class=\"simpletable\">\n",
       "<tr>\n",
       "          <td></td>            <th>coef</th>     <th>std err</th>      <th>t</th>      <th>P>|t|</th> <th>[95.0% Conf. Int.]</th> \n",
       "</tr>\n",
       "<tr>\n",
       "  <th>Intercept</th>        <td> 1.226e+04</td> <td> 1.04e+04</td> <td>    1.183</td> <td> 0.249</td> <td>-9131.395  3.36e+04</td>\n",
       "</tr>\n",
       "<tr>\n",
       "  <th>income</th>           <td>    0.0007</td> <td>    0.006</td> <td>    0.108</td> <td> 0.915</td> <td>   -0.012     0.014</td>\n",
       "</tr>\n",
       "<tr>\n",
       "  <th>I((income) ** 2)</th> <td> 6.552e-10</td> <td> 7.59e-10</td> <td>    0.864</td> <td> 0.396</td> <td> -9.1e-10  2.22e-09</td>\n",
       "</tr>\n",
       "</table>\n",
       "<table class=\"simpletable\">\n",
       "<tr>\n",
       "  <th>Omnibus:</th>       <td> 2.164</td> <th>  Durbin-Watson:     </th> <td>   1.115</td>\n",
       "</tr>\n",
       "<tr>\n",
       "  <th>Prob(Omnibus):</th> <td> 0.339</td> <th>  Jarque-Bera (JB):  </th> <td>   1.912</td>\n",
       "</tr>\n",
       "<tr>\n",
       "  <th>Skew:</th>          <td> 0.598</td> <th>  Prob(JB):          </th> <td>   0.384</td>\n",
       "</tr>\n",
       "<tr>\n",
       "  <th>Kurtosis:</th>      <td> 2.483</td> <th>  Cond. No.          </th> <td>8.43e+13</td>\n",
       "</tr>\n",
       "</table>"
      ],
      "text/plain": [
       "<class 'statsmodels.iolib.summary.Summary'>\n",
       "\"\"\"\n",
       "                            OLS Regression Results                            \n",
       "==============================================================================\n",
       "Dep. Variable:                 Nrides   R-squared:                       0.452\n",
       "Model:                            OLS   Adj. R-squared:                  0.406\n",
       "Method:                 Least Squares   F-statistic:                     9.880\n",
       "Date:                Tue, 08 Nov 2016   Prob (F-statistic):           0.000741\n",
       "Time:                        22:38:28   Log-Likelihood:                -298.71\n",
       "No. Observations:                  27   AIC:                             603.4\n",
       "Df Residuals:                      24   BIC:                             607.3\n",
       "Df Model:                           2                                         \n",
       "Covariance Type:            nonrobust                                         \n",
       "====================================================================================\n",
       "                       coef    std err          t      P>|t|      [95.0% Conf. Int.]\n",
       "------------------------------------------------------------------------------------\n",
       "Intercept         1.226e+04   1.04e+04      1.183      0.249     -9131.395  3.36e+04\n",
       "income               0.0007      0.006      0.108      0.915        -0.012     0.014\n",
       "I((income) ** 2)  6.552e-10   7.59e-10      0.864      0.396      -9.1e-10  2.22e-09\n",
       "==============================================================================\n",
       "Omnibus:                        2.164   Durbin-Watson:                   1.115\n",
       "Prob(Omnibus):                  0.339   Jarque-Bera (JB):                1.912\n",
       "Skew:                           0.598   Prob(JB):                        0.384\n",
       "Kurtosis:                       2.483   Cond. No.                     8.43e+13\n",
       "==============================================================================\n",
       "\n",
       "Warnings:\n",
       "[1] Standard Errors assume that the covariance matrix of the errors is correctly specified.\n",
       "[2] The condition number is large, 8.43e+13. This might indicate that there are\n",
       "strong multicollinearity or other numerical problems.\n",
       "\"\"\""
      ]
     },
     "execution_count": 23,
     "metadata": {},
     "output_type": "execute_result"
    },
    {
     "data": {
      "image/png": "[encoded data removed]",
      "text/plain": [
       "<matplotlib.figure.Figure at 0x11e788fd0>"
      ]
     },
     "metadata": {},
     "output_type": "display_data"
    }
   ],
   "source": [
    "#reducting the imncome with .drop([17,18])\n",
    "curvmodel15_income = smf.ols(formula = \"Nrides ~ income + I((income)**2)\", data=cbincome2015.drop([17,18])).fit()\n",
    "\n",
    "ax = pl.figure(figsize=(10,5)).add_subplot(111)\n",
    "ax.plot(cbincome2015['income'], cbincome2015['Nrides'], 'o', label=\"06/2015\")\n",
    "ax.plot(cbincome2015.iloc[[17,18]]['income'], \n",
    "        cbincome2015.iloc[[17,18]]['Nrides'], 'o', label=\"outliers\", color=\"IndianRed\")\n",
    "\n",
    "ax.plot(np.linspace(cbincome2015.income.min(), cbincome2015.income.max(), 100), \n",
    "        linmodel2015.predict(exog = dict(income=np.linspace(cbincome2015.income.min(), \n",
    "                                                        cbincome2015.income.max(),100))), \n",
    "        label=\"Line Fit\")\n",
    "ax.plot(np.linspace(cbincome2015.income.min(), cbincome2015.income.max(), 100), \n",
    "        linmodel_cut2015.predict(exog = dict(income=np.linspace(cbincome2015.income.min(), \n",
    "                                                        cbincome2015.income.max(),100))), \n",
    "        label=\"Line Fit - no outliers\", color=\"DarkGreen\")\n",
    "ax.set_xlabel(\"AGI ($)\", fontsize=18)\n",
    "ax.set_ylabel(\"Number of rides\", fontsize=18)\n",
    "cbincome2015.drop([17,18]).plot(kind=\"scatter\", x='income', y='Nrides', ax=ax)\n",
    "x = np.linspace(cbincome2015.income.min(), cbincome2015.income.max(), 1000)\n",
    "ax.plot(x, curvmodel15_income.predict(exog = dict(income=x)), '-', color=\"k\", label=\"2nd deg fit\")\n",
    "ax.legend(fontsize=15, loc=2)\n",
    "curvmodel15_income.summary()"
   ]
  },
  {
   "cell_type": "markdown",
   "metadata": {},
   "source": [
    "### Figure 4: as figure 1 and 3 with the model generated by a second degree polynomial fit to the reducted data plotted in black. The second degree polynomial is not an improved fit according to the decreased adjusted $R^2$ which went from 0.40 to 0.39 "
   ]
  },
  {
   "cell_type": "markdown",
   "metadata": {},
   "source": [
    "### A likelihood ratio test can be o preformed to assess if the augmented model is justified by the data. We set a statical significance threshold of 5%"
   ]
  },
  {
   "cell_type": "code",
   "execution_count": 24,
   "metadata": {
    "collapsed": false
   },
   "outputs": [
    {
     "name": "stdout",
     "output_type": "stream",
     "text": [
      "LR test: (-0.0, nan, 0.0)\n",
      "We CANNOT reject the Null hypothesis that the restricted (linear) model is better than the 2nd degree polynomial fit with p-value p < 0.05\n"
     ]
    }
   ],
   "source": [
    "alpha = 0.05\n",
    "LR = curvmodel15_income.compare_lr_test(curvmodel15_income)\n",
    "\n",
    "print (\"LR test:\", LR)\n",
    "\n",
    "print (\"We \", end=\"\")\n",
    "if LR[0] < 3.84: #0.05 level for 1 DOF chi sq distribution \n",
    "    print (\"CANNOT \", end=\"\") \n",
    "    \n",
    "print (\"reject the Null hypothesis that the restricted (linear) \" + \n",
    "       \"model is better than the 2nd degree polynomial fit with p-value \", end=\"\")\n",
    "print (\"p < %.2f\"%alpha)\n"
   ]
  },
  {
   "cell_type": "markdown",
   "metadata": {},
   "source": [
    "### Repeating the analysis with 2016/01 data"
   ]
  },
  {
   "cell_type": "raw",
   "metadata": {},
   "source": [
    "#redoing geododing for 2016 data\n",
    "cb2016['zipcodes'] = np.zeros(len(cb2016))\n",
    "for ll in pd.DataFrame((cb2016[['start station latitude', \n",
    "                'start station longitude']].values.astype(float))).drop_duplicates().values:\n",
    "    url = (\"https://maps.googleapis.com/maps/api/geocode/json?latlng=\" +\n",
    "           \"%f,%f&key=%s\"%(\n",
    "            ll[0], ll[1], os.getenv('GOOGLEAPI')))\n",
    "    #print (\"https://maps.googleapis.com/maps/api/geocode/json?latlng=\" +\n",
    "    #       \"%f,%f&key=%s\"%(\n",
    "    #        ll[0], ll[1], os.getenv('GOOGLEAPI')))\n",
    "    #print (get_jsonparsed_data(url))\n",
    "    revgeo = get_jsonparsed_data(url)[\"results\"][0]['address_components'][-1]\n",
    "    #print (revgeo)\n",
    "    cb2016['zipcodes'][(cb2016['start station latitude'] == ll[0]) * \n",
    "           (cb2016['start station longitude'] == ll[1])] = revgeo['long_name']\n",
    "cb2016.head()"
   ]
  },
  {
   "cell_type": "code",
   "execution_count": 25,
   "metadata": {
    "collapsed": false
   },
   "outputs": [],
   "source": [
    "#alternative to save time\n",
    "stid2zip = get_jsonparsed_data(\"http://cosmo.nyu.edu/~fb55/UI_CUSP_2015/data/stationsZips2016.json\")\n",
    "cb2016['zipcodes'] = cb2016['start station id'].astype(str).map(stid2zip)"
   ]
  },
  {
   "cell_type": "code",
   "execution_count": 26,
   "metadata": {
    "collapsed": false
   },
   "outputs": [
    {
     "data": {
      "text/html": [
       "<div>\n",
       "<table border=\"1\" class=\"dataframe\">\n",
       "  <thead>\n",
       "    <tr style=\"text-align: right;\">\n",
       "      <th></th>\n",
       "      <th>zipcodes</th>\n",
       "      <th>Nrides</th>\n",
       "      <th>income</th>\n",
       "      <th>N</th>\n",
       "      <th>Njoint</th>\n",
       "      <th>Ndeps</th>\n",
       "      <th>incomePC</th>\n",
       "    </tr>\n",
       "  </thead>\n",
       "  <tbody>\n",
       "    <tr>\n",
       "      <th>0</th>\n",
       "      <td>10001</td>\n",
       "      <td>33437</td>\n",
       "      <td>2363960</td>\n",
       "      <td>14080</td>\n",
       "      <td>2410</td>\n",
       "      <td>3250</td>\n",
       "      <td>119.754813</td>\n",
       "    </tr>\n",
       "    <tr>\n",
       "      <th>1</th>\n",
       "      <td>10002</td>\n",
       "      <td>26059</td>\n",
       "      <td>2215542</td>\n",
       "      <td>43370</td>\n",
       "      <td>11040</td>\n",
       "      <td>19160</td>\n",
       "      <td>30.114748</td>\n",
       "    </tr>\n",
       "    <tr>\n",
       "      <th>2</th>\n",
       "      <td>10003</td>\n",
       "      <td>46760</td>\n",
       "      <td>6910992</td>\n",
       "      <td>29810</td>\n",
       "      <td>5460</td>\n",
       "      <td>4790</td>\n",
       "      <td>172.516026</td>\n",
       "    </tr>\n",
       "    <tr>\n",
       "      <th>3</th>\n",
       "      <td>10004</td>\n",
       "      <td>4828</td>\n",
       "      <td>925417</td>\n",
       "      <td>2540</td>\n",
       "      <td>840</td>\n",
       "      <td>1130</td>\n",
       "      <td>205.192239</td>\n",
       "    </tr>\n",
       "    <tr>\n",
       "      <th>4</th>\n",
       "      <td>10005</td>\n",
       "      <td>4137</td>\n",
       "      <td>5545849</td>\n",
       "      <td>5890</td>\n",
       "      <td>1340</td>\n",
       "      <td>1340</td>\n",
       "      <td>647.123571</td>\n",
       "    </tr>\n",
       "  </tbody>\n",
       "</table>\n",
       "</div>"
      ],
      "text/plain": [
       "   zipcodes  Nrides   income      N  Njoint  Ndeps    incomePC\n",
       "0     10001   33437  2363960  14080    2410   3250  119.754813\n",
       "1     10002   26059  2215542  43370   11040  19160   30.114748\n",
       "2     10003   46760  6910992  29810    5460   4790  172.516026\n",
       "3     10004    4828   925417   2540     840   1130  205.192239\n",
       "4     10005    4137  5545849   5890    1340   1340  647.123571"
      ]
     },
     "execution_count": 26,
     "metadata": {},
     "output_type": "execute_result"
    }
   ],
   "source": [
    "cbgroup16 = cb2016.groupby('zipcodes', as_index=False).count()\n",
    "cbincome2016 = pd.merge(cbgroup16, zipincome, on=\"zipcodes\", how=\"inner\").drop(cbgroup15.columns[2:], axis=1)\n",
    "cbincome2016.rename(columns={\"tripduration\":\"Nrides\"}, inplace=True)\n",
    "cbincome2016.head()"
   ]
  },
  {
   "cell_type": "code",
   "execution_count": 27,
   "metadata": {
    "collapsed": false
   },
   "outputs": [
    {
     "data": {
      "text/html": [
       "<table class=\"simpletable\">\n",
       "<caption>OLS Regression Results</caption>\n",
       "<tr>\n",
       "  <th>Dep. Variable:</th>         <td>Nrides</td>      <th>  R-squared:         </th> <td>   0.089</td>\n",
       "</tr>\n",
       "<tr>\n",
       "  <th>Model:</th>                   <td>OLS</td>       <th>  Adj. R-squared:    </th> <td>   0.066</td>\n",
       "</tr>\n",
       "<tr>\n",
       "  <th>Method:</th>             <td>Least Squares</td>  <th>  F-statistic:       </th> <td>   3.894</td>\n",
       "</tr>\n",
       "<tr>\n",
       "  <th>Date:</th>             <td>Tue, 08 Nov 2016</td> <th>  Prob (F-statistic):</th>  <td>0.0554</td> \n",
       "</tr>\n",
       "<tr>\n",
       "  <th>Time:</th>                 <td>22:39:02</td>     <th>  Log-Likelihood:    </th> <td> -451.48</td>\n",
       "</tr>\n",
       "<tr>\n",
       "  <th>No. Observations:</th>      <td>    42</td>      <th>  AIC:               </th> <td>   907.0</td>\n",
       "</tr>\n",
       "<tr>\n",
       "  <th>Df Residuals:</th>          <td>    40</td>      <th>  BIC:               </th> <td>   910.4</td>\n",
       "</tr>\n",
       "<tr>\n",
       "  <th>Df Model:</th>              <td>     1</td>      <th>                     </th>     <td> </td>   \n",
       "</tr>\n",
       "<tr>\n",
       "  <th>Covariance Type:</th>      <td>nonrobust</td>    <th>                     </th>     <td> </td>   \n",
       "</tr>\n",
       "</table>\n",
       "<table class=\"simpletable\">\n",
       "<tr>\n",
       "      <td></td>         <th>coef</th>     <th>std err</th>      <th>t</th>      <th>P>|t|</th> <th>[95.0% Conf. Int.]</th> \n",
       "</tr>\n",
       "<tr>\n",
       "  <th>Intercept</th> <td> 7384.9429</td> <td> 2776.149</td> <td>    2.660</td> <td> 0.011</td> <td> 1774.136   1.3e+04</td>\n",
       "</tr>\n",
       "<tr>\n",
       "  <th>income</th>    <td>    0.0010</td> <td>    0.001</td> <td>    1.973</td> <td> 0.055</td> <td>-2.45e-05     0.002</td>\n",
       "</tr>\n",
       "</table>\n",
       "<table class=\"simpletable\">\n",
       "<tr>\n",
       "  <th>Omnibus:</th>       <td>10.874</td> <th>  Durbin-Watson:     </th> <td>   1.007</td>\n",
       "</tr>\n",
       "<tr>\n",
       "  <th>Prob(Omnibus):</th> <td> 0.004</td> <th>  Jarque-Bera (JB):  </th> <td>  10.497</td>\n",
       "</tr>\n",
       "<tr>\n",
       "  <th>Skew:</th>          <td> 1.166</td> <th>  Prob(JB):          </th> <td> 0.00526</td>\n",
       "</tr>\n",
       "<tr>\n",
       "  <th>Kurtosis:</th>      <td> 3.750</td> <th>  Cond. No.          </th> <td>8.43e+06</td>\n",
       "</tr>\n",
       "</table>"
      ],
      "text/plain": [
       "<class 'statsmodels.iolib.summary.Summary'>\n",
       "\"\"\"\n",
       "                            OLS Regression Results                            \n",
       "==============================================================================\n",
       "Dep. Variable:                 Nrides   R-squared:                       0.089\n",
       "Model:                            OLS   Adj. R-squared:                  0.066\n",
       "Method:                 Least Squares   F-statistic:                     3.894\n",
       "Date:                Tue, 08 Nov 2016   Prob (F-statistic):             0.0554\n",
       "Time:                        22:39:02   Log-Likelihood:                -451.48\n",
       "No. Observations:                  42   AIC:                             907.0\n",
       "Df Residuals:                      40   BIC:                             910.4\n",
       "Df Model:                           1                                         \n",
       "Covariance Type:            nonrobust                                         \n",
       "==============================================================================\n",
       "                 coef    std err          t      P>|t|      [95.0% Conf. Int.]\n",
       "------------------------------------------------------------------------------\n",
       "Intercept   7384.9429   2776.149      2.660      0.011      1774.136   1.3e+04\n",
       "income         0.0010      0.001      1.973      0.055     -2.45e-05     0.002\n",
       "==============================================================================\n",
       "Omnibus:                       10.874   Durbin-Watson:                   1.007\n",
       "Prob(Omnibus):                  0.004   Jarque-Bera (JB):               10.497\n",
       "Skew:                           1.166   Prob(JB):                      0.00526\n",
       "Kurtosis:                       3.750   Cond. No.                     8.43e+06\n",
       "==============================================================================\n",
       "\n",
       "Warnings:\n",
       "[1] Standard Errors assume that the covariance matrix of the errors is correctly specified.\n",
       "[2] The condition number is large, 8.43e+06. This might indicate that there are\n",
       "strong multicollinearity or other numerical problems.\n",
       "\"\"\""
      ]
     },
     "execution_count": 27,
     "metadata": {},
     "output_type": "execute_result"
    },
    {
     "data": {
      "image/png": "[encoded data removed]",
      "text/plain": [
       "<matplotlib.figure.Figure at 0x115aa7f28>"
      ]
     },
     "metadata": {},
     "output_type": "display_data"
    }
   ],
   "source": [
    "# line fit to 2016 AGI\n",
    "linmodel2016 = smf.ols(formula = 'Nrides ~ income', data = cbincome2016).fit()\n",
    "\n",
    "#plot data and fits\n",
    "ax = pl.figure(figsize=(10,5)).add_subplot(111)\n",
    "ax.plot(cbincome2015['income'], cbincome2015['Nrides'], 'o', label=\"06/2015\")\n",
    "ax.plot(cbincome2016['income'], cbincome2016['Nrides'], 'o', label=\"01/2016\")\n",
    "\n",
    "ax.plot(np.linspace(cbincome2016.income.min(), cbincome2016.income.max(), 100), \n",
    "        linmodel2015.predict(exog = dict(income=np.linspace(cbincome2016.income.min(), \n",
    "                                                        cbincome2016.income.max(),100))), \n",
    "        label=\"Line Fit 2015\")\n",
    "\n",
    "ax.plot(np.linspace(cbincome2016.income.min(), cbincome2016.income.max(), 100), \n",
    "        linmodel2016.predict(exog = dict(income=np.linspace(cbincome2016.income.min(), \n",
    "                                                        cbincome2016.income.max(),100))), \n",
    "        label=\"Line Fit 2016\")\n",
    "ax.set_xlabel(\"AGI ($)\", fontsize=18)\n",
    "ax.set_ylabel(\"Number of rides\", fontsize=18)\n",
    "ax.legend(fontsize=18)\n",
    "linmodel2016.summary()\n"
   ]
  },
  {
   "cell_type": "markdown",
   "metadata": {},
   "source": [
    "### Figure 5:  2015/06 and 2016/01 plotted in blue and orange respectively. The 2016 dataset shows more datapoints (corresponding to new citibike stations) in the low ridership-high income region where we had identified two outliers. This  invalidates our outlier classification: the high income-low ridership is a feature of the data. Correspondingly, the line fit (blue line for fit to the whole 2015 data, red line for fit to the whole 2016 data) has a lower slope (0.001 ridership change per dollar change) still though with low explanatory power, explaining a variance of less than 10%. The ridership is also generally lower, and this feature of the 2016 dataset is easily explained with a seasonal effect: fewer people ride in the colder, winter months."
   ]
  },
  {
   "cell_type": "markdown",
   "metadata": {},
   "source": [
    "# income per person"
   ]
  },
  {
   "cell_type": "code",
   "execution_count": 28,
   "metadata": {
    "collapsed": false
   },
   "outputs": [
    {
     "data": {
      "text/html": [
       "<table class=\"simpletable\">\n",
       "<caption>OLS Regression Results</caption>\n",
       "<tr>\n",
       "  <th>Dep. Variable:</th>         <td>Nrides</td>      <th>  R-squared:         </th> <td>   0.000</td>\n",
       "</tr>\n",
       "<tr>\n",
       "  <th>Model:</th>                   <td>OLS</td>       <th>  Adj. R-squared:    </th> <td>  -0.037</td>\n",
       "</tr>\n",
       "<tr>\n",
       "  <th>Method:</th>             <td>Least Squares</td>  <th>  F-statistic:       </th> <td> 0.01073</td>\n",
       "</tr>\n",
       "<tr>\n",
       "  <th>Date:</th>             <td>Tue, 08 Nov 2016</td> <th>  Prob (F-statistic):</th>  <td> 0.918</td> \n",
       "</tr>\n",
       "<tr>\n",
       "  <th>Time:</th>                 <td>22:39:11</td>     <th>  Log-Likelihood:    </th> <td> -329.03</td>\n",
       "</tr>\n",
       "<tr>\n",
       "  <th>No. Observations:</th>      <td>    29</td>      <th>  AIC:               </th> <td>   662.1</td>\n",
       "</tr>\n",
       "<tr>\n",
       "  <th>Df Residuals:</th>          <td>    27</td>      <th>  BIC:               </th> <td>   664.8</td>\n",
       "</tr>\n",
       "<tr>\n",
       "  <th>Df Model:</th>              <td>     1</td>      <th>                     </th>     <td> </td>   \n",
       "</tr>\n",
       "<tr>\n",
       "  <th>Covariance Type:</th>      <td>nonrobust</td>    <th>                     </th>     <td> </td>   \n",
       "</tr>\n",
       "</table>\n",
       "<table class=\"simpletable\">\n",
       "<tr>\n",
       "      <td></td>         <th>coef</th>     <th>std err</th>      <th>t</th>      <th>P>|t|</th> <th>[95.0% Conf. Int.]</th> \n",
       "</tr>\n",
       "<tr>\n",
       "  <th>Intercept</th> <td> 2.433e+04</td> <td> 6710.372</td> <td>    3.626</td> <td> 0.001</td> <td> 1.06e+04  3.81e+04</td>\n",
       "</tr>\n",
       "<tr>\n",
       "  <th>incomePC</th>  <td>    3.1327</td> <td>   30.246</td> <td>    0.104</td> <td> 0.918</td> <td>  -58.927    65.193</td>\n",
       "</tr>\n",
       "</table>\n",
       "<table class=\"simpletable\">\n",
       "<tr>\n",
       "  <th>Omnibus:</th>       <td> 8.086</td> <th>  Durbin-Watson:     </th> <td>   1.257</td>\n",
       "</tr>\n",
       "<tr>\n",
       "  <th>Prob(Omnibus):</th> <td> 0.018</td> <th>  Jarque-Bera (JB):  </th> <td>   6.516</td>\n",
       "</tr>\n",
       "<tr>\n",
       "  <th>Skew:</th>          <td> 1.108</td> <th>  Prob(JB):          </th> <td>  0.0385</td>\n",
       "</tr>\n",
       "<tr>\n",
       "  <th>Kurtosis:</th>      <td> 3.696</td> <th>  Cond. No.          </th> <td>    378.</td>\n",
       "</tr>\n",
       "</table>"
      ],
      "text/plain": [
       "<class 'statsmodels.iolib.summary.Summary'>\n",
       "\"\"\"\n",
       "                            OLS Regression Results                            \n",
       "==============================================================================\n",
       "Dep. Variable:                 Nrides   R-squared:                       0.000\n",
       "Model:                            OLS   Adj. R-squared:                 -0.037\n",
       "Method:                 Least Squares   F-statistic:                   0.01073\n",
       "Date:                Tue, 08 Nov 2016   Prob (F-statistic):              0.918\n",
       "Time:                        22:39:11   Log-Likelihood:                -329.03\n",
       "No. Observations:                  29   AIC:                             662.1\n",
       "Df Residuals:                      27   BIC:                             664.8\n",
       "Df Model:                           1                                         \n",
       "Covariance Type:            nonrobust                                         \n",
       "==============================================================================\n",
       "                 coef    std err          t      P>|t|      [95.0% Conf. Int.]\n",
       "------------------------------------------------------------------------------\n",
       "Intercept   2.433e+04   6710.372      3.626      0.001      1.06e+04  3.81e+04\n",
       "incomePC       3.1327     30.246      0.104      0.918       -58.927    65.193\n",
       "==============================================================================\n",
       "Omnibus:                        8.086   Durbin-Watson:                   1.257\n",
       "Prob(Omnibus):                  0.018   Jarque-Bera (JB):                6.516\n",
       "Skew:                           1.108   Prob(JB):                       0.0385\n",
       "Kurtosis:                       3.696   Cond. No.                         378.\n",
       "==============================================================================\n",
       "\n",
       "Warnings:\n",
       "[1] Standard Errors assume that the covariance matrix of the errors is correctly specified.\n",
       "\"\"\""
      ]
     },
     "execution_count": 28,
     "metadata": {},
     "output_type": "execute_result"
    },
    {
     "data": {
      "image/png": "[encoded data removed]",
      "text/plain": [
       "<matplotlib.figure.Figure at 0x120491470>"
      ]
     },
     "metadata": {},
     "output_type": "display_data"
    }
   ],
   "source": [
    "# fit to income per person 2015\n",
    "linmodelPC2015 = smf.ols(formula = 'Nrides ~ incomePC', data = cbincome2015).fit()\n",
    "\n",
    "#plot \n",
    "ax = pl.figure(figsize=(10,5)).add_subplot(111)\n",
    "ax.plot(cbincome2015['incomePC'], cbincome2015['Nrides'], 'o', label=\"06/2105\", color=\"grey\")\n",
    "\n",
    "ax.plot(np.linspace(cbincome2015.incomePC.min(), cbincome2015.incomePC.max(), 100), \n",
    "        linmodelPC2015.predict(exog = dict(incomePC=np.linspace(cbincome2015.incomePC.min(), \n",
    "                                                        cbincome2015.incomePC.max(),100))), \n",
    "        label=\"Line Fit\")\n",
    "ax.set_xlabel(\"Income per person ($)\", fontsize=18)\n",
    "ax.set_ylabel(\"Number of rides\", fontsize=18)\n",
    "ax.legend(fontsize=18)\n",
    "\n",
    "linmodelPC2015.summary()"
   ]
  },
  {
   "cell_type": "markdown",
   "metadata": {},
   "source": [
    "### Figure 6: Number of rides as a function of income per person, obtained by dividing the AGI by the number of returns (accounting for joint returns) and number of dependents (grey dots) and OLS line fit (blue line). The upward slope is lost and so is all of the explainatory power of income ($R^2 = 0$): while the total gross income of a zipcode is a (somwehat weak) predictor of ridership the income per person has no predictive power. This may be due to a dependency of income on the \"hidden variable\" zipcode population. To test this we can fit the reidership to population and see if we recover the predictive power of AGI."
   ]
  },
  {
   "cell_type": "code",
   "execution_count": 30,
   "metadata": {
    "collapsed": false
   },
   "outputs": [
    {
     "data": {
      "text/html": [
       "<table class=\"simpletable\">\n",
       "<caption>OLS Regression Results</caption>\n",
       "<tr>\n",
       "  <th>Dep. Variable:</th>         <td>Nrides</td>      <th>  R-squared:         </th> <td>   0.046</td>\n",
       "</tr>\n",
       "<tr>\n",
       "  <th>Model:</th>                   <td>OLS</td>       <th>  Adj. R-squared:    </th> <td>   0.011</td>\n",
       "</tr>\n",
       "<tr>\n",
       "  <th>Method:</th>             <td>Least Squares</td>  <th>  F-statistic:       </th> <td>   1.308</td>\n",
       "</tr>\n",
       "<tr>\n",
       "  <th>Date:</th>             <td>Tue, 08 Nov 2016</td> <th>  Prob (F-statistic):</th>  <td> 0.263</td> \n",
       "</tr>\n",
       "<tr>\n",
       "  <th>Time:</th>                 <td>22:39:53</td>     <th>  Log-Likelihood:    </th> <td> -328.35</td>\n",
       "</tr>\n",
       "<tr>\n",
       "  <th>No. Observations:</th>      <td>    29</td>      <th>  AIC:               </th> <td>   660.7</td>\n",
       "</tr>\n",
       "<tr>\n",
       "  <th>Df Residuals:</th>          <td>    27</td>      <th>  BIC:               </th> <td>   663.4</td>\n",
       "</tr>\n",
       "<tr>\n",
       "  <th>Df Model:</th>              <td>     1</td>      <th>                     </th>     <td> </td>   \n",
       "</tr>\n",
       "<tr>\n",
       "  <th>Covariance Type:</th>      <td>nonrobust</td>    <th>                     </th>     <td> </td>   \n",
       "</tr>\n",
       "</table>\n",
       "<table class=\"simpletable\">\n",
       "<tr>\n",
       "       <td></td>         <th>coef</th>     <th>std err</th>      <th>t</th>      <th>P>|t|</th> <th>[95.0% Conf. Int.]</th> \n",
       "</tr>\n",
       "<tr>\n",
       "  <th>Intercept</th>  <td> 1.773e+04</td> <td> 7349.950</td> <td>    2.413</td> <td> 0.023</td> <td> 2652.537  3.28e+04</td>\n",
       "</tr>\n",
       "<tr>\n",
       "  <th>population</th> <td>    0.2462</td> <td>    0.215</td> <td>    1.144</td> <td> 0.263</td> <td>   -0.195     0.688</td>\n",
       "</tr>\n",
       "</table>\n",
       "<table class=\"simpletable\">\n",
       "<tr>\n",
       "  <th>Omnibus:</th>       <td> 5.543</td> <th>  Durbin-Watson:     </th> <td>   1.204</td>\n",
       "</tr>\n",
       "<tr>\n",
       "  <th>Prob(Omnibus):</th> <td> 0.063</td> <th>  Jarque-Bera (JB):  </th> <td>   3.950</td>\n",
       "</tr>\n",
       "<tr>\n",
       "  <th>Skew:</th>          <td> 0.861</td> <th>  Prob(JB):          </th> <td>   0.139</td>\n",
       "</tr>\n",
       "<tr>\n",
       "  <th>Kurtosis:</th>      <td> 3.550</td> <th>  Cond. No.          </th> <td>6.52e+04</td>\n",
       "</tr>\n",
       "</table>"
      ],
      "text/plain": [
       "<class 'statsmodels.iolib.summary.Summary'>\n",
       "\"\"\"\n",
       "                            OLS Regression Results                            \n",
       "==============================================================================\n",
       "Dep. Variable:                 Nrides   R-squared:                       0.046\n",
       "Model:                            OLS   Adj. R-squared:                  0.011\n",
       "Method:                 Least Squares   F-statistic:                     1.308\n",
       "Date:                Tue, 08 Nov 2016   Prob (F-statistic):              0.263\n",
       "Time:                        22:39:53   Log-Likelihood:                -328.35\n",
       "No. Observations:                  29   AIC:                             660.7\n",
       "Df Residuals:                      27   BIC:                             663.4\n",
       "Df Model:                           1                                         \n",
       "Covariance Type:            nonrobust                                         \n",
       "==============================================================================\n",
       "                 coef    std err          t      P>|t|      [95.0% Conf. Int.]\n",
       "------------------------------------------------------------------------------\n",
       "Intercept   1.773e+04   7349.950      2.413      0.023      2652.537  3.28e+04\n",
       "population     0.2462      0.215      1.144      0.263        -0.195     0.688\n",
       "==============================================================================\n",
       "Omnibus:                        5.543   Durbin-Watson:                   1.204\n",
       "Prob(Omnibus):                  0.063   Jarque-Bera (JB):                3.950\n",
       "Skew:                           0.861   Prob(JB):                        0.139\n",
       "Kurtosis:                       3.550   Cond. No.                     6.52e+04\n",
       "==============================================================================\n",
       "\n",
       "Warnings:\n",
       "[1] Standard Errors assume that the covariance matrix of the errors is correctly specified.\n",
       "[2] The condition number is large, 6.52e+04. This might indicate that there are\n",
       "strong multicollinearity or other numerical problems.\n",
       "\"\"\""
      ]
     },
     "execution_count": 30,
     "metadata": {},
     "output_type": "execute_result"
    },
    {
     "data": {
      "image/png": "[encoded data removed]",
      "text/plain": [
       "<matplotlib.figure.Figure at 0x12045ebe0>"
      ]
     },
     "metadata": {},
     "output_type": "display_data"
    }
   ],
   "source": [
    "cbincome2015['population'] = (cbincome2015.N + cbincome2015.Ndeps + cbincome2015.Njoint)\n",
    "ax = pl.figure(figsize=(10,5)).add_subplot(111)\n",
    "ax.plot(cbincome2015['population'], cbincome2015['Nrides'], 'o', label=\"06/2015\", color=\"Purple\")\n",
    "\n",
    "linmodelPOP2015 = smf.ols(formula = 'Nrides ~ population', data = cbincome2015).fit()\n",
    "ax.plot(np.linspace(cbincome2015.population.min(), cbincome2015.population.max(), 100), \n",
    "        linmodelPOP2015.predict(exog = dict(population=np.linspace(cbincome2015.population.min(), \n",
    "                                                        cbincome2015.population.max(),100))), \n",
    "        label=\"Line Fit\")\n",
    "ax.set_xlabel(\"Number of people\", fontsize=18)\n",
    "ax.set_ylabel(\"Number of rides\", fontsize=18)\n",
    "ax.legend(fontsize=18)\n",
    "linmodelPOP2015.summary()\n"
   ]
  },
  {
   "cell_type": "markdown",
   "metadata": {
    "collapsed": true
   },
   "source": [
    "### Figure 7: Number of Citibike Rides in 2015/06 as a function of zipcode population (purple dots). The blue line is the line fit obtained with ordinary least square (OLS) method. The model explains  ~5% of the variance in the data, about a half of the variance explained by the AGI linear model."
   ]
  },
  {
   "cell_type": "code",
   "execution_count": null,
   "metadata": {
    "collapsed": true
   },
   "outputs": [],
   "source": []
  }
 ],
 "metadata": {
  "kernelspec": {
   "display_name": "Python 3",
   "language": "python",
   "name": "python3"
  },
  "language_info": {
   "codemirror_mode": {
    "name": "ipython",
    "version": 3
   },
   "file_extension": ".py",
   "mimetype": "text/x-python",
   "name": "python",
   "nbconvert_exporter": "python",
   "pygments_lexer": "ipython3",
   "version": "3.5.2"
  }
 },
 "nbformat": 4,
 "nbformat_minor": 0
}
