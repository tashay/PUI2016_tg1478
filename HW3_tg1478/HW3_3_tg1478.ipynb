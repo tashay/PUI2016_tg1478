{
 "cells": [
  {
   "cell_type": "code",
   "execution_count": 14,
   "metadata": {
    "collapsed": true
   },
   "outputs": [],
   "source": [
    "import numpy as np\n",
    "import pandas as pd\n",
    "import math"
   ]
  },
  {
   "cell_type": "markdown",
   "metadata": {},
   "source": [
    "This is an investigation of a hypothetical new bus route and whether it improves travel times. "
   ]
  },
  {
   "cell_type": "markdown",
   "metadata": {},
   "source": [
    "## Idea: \n",
    "\n",
    "The new X8 MTA bus route improves commuter times. "
   ]
  },
  {
   "cell_type": "markdown",
   "metadata": {},
   "source": [
    "## Null Hypothesis: \n",
    "\n",
    "Ho: The commute time, on average, is the same or longer on the new bus route as it was before. "
   ]
  },
  {
   "cell_type": "markdown",
   "metadata": {},
   "source": [
    "## Alternate Hypothesis: \n",
    "\n",
    "Ha: The commute time, on average, is shorter on the new bus route than it was before. "
   ]
  },
  {
   "cell_type": "markdown",
   "metadata": {},
   "source": [
    "### Confidence Level: p = 0.05"
   ]
  },
  {
   "cell_type": "code",
   "execution_count": 41,
   "metadata": {
    "collapsed": false,
    "scrolled": false
   },
   "outputs": [
    {
     "name": "stdout",
     "output_type": "stream",
     "text": [
      "The z value is: 0   -2.149052\n",
      "dtype: float64\n"
     ]
    }
   ],
   "source": [
    "# Import data from Dr. Bianco's data set. \n",
    "df = pd.read_csv('https://raw.githubusercontent.com/fedhere/PUI2016_fb55/master/Lab3_fb55/times.txt', header = None)\n",
    "\n",
    "# Values of old bus route\n",
    "old_mean = 36\n",
    "old_std = 6\n",
    "\n",
    "# Calculating z value for new bus route\n",
    "z = (df.mean() - old_mean) / (df.std() / np.sqrt(len(df)))\n",
    "print ('The z value is:' ,z)"
   ]
  },
  {
   "cell_type": "markdown",
   "metadata": {},
   "source": [
    "Because the Z value is farther than 2 standard deviations from the old mean, the Null Hypothesis must be rejected. "
   ]
  }
 ],
 "metadata": {
  "kernelspec": {
   "display_name": "PUI2016_Python3",
   "language": "python",
   "name": "pui2016_python3"
  },
  "language_info": {
   "codemirror_mode": {
    "name": "ipython",
    "version": 3
   },
   "file_extension": ".py",
   "mimetype": "text/x-python",
   "name": "python",
   "nbconvert_exporter": "python",
   "pygments_lexer": "ipython3",
   "version": "3.5.2"
  }
 },
 "nbformat": 4,
 "nbformat_minor": 0
}
