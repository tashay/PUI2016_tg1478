{
 "cells": [
  {
   "cell_type": "markdown",
   "metadata": {
    "collapsed": true
   },
   "source": [
    "Author: Tashay Green in collaboration with Jordan Vani and Francis Ko\n",
    "\n",
    "This is an investigation into CitiBike usage data. "
   ]
  },
  {
   "cell_type": "code",
   "execution_count": 8,
   "metadata": {
    "collapsed": false
   },
   "outputs": [
    {
     "name": "stdout",
     "output_type": "stream",
     "text": [
      "Populating the interactive namespace from numpy and matplotlib\n"
     ]
    }
   ],
   "source": [
    "import pylab as pl\n",
    "import pandas as pd\n",
    "import numpy as np\n",
    "import os\n",
    "import datetime as dt\n",
    "%pylab inline"
   ]
  },
  {
   "cell_type": "markdown",
   "metadata": {},
   "source": [
    "# Idea: \n",
    "The purchasing of 24-Hour Passes is much higher on weekends (Sat-Sun) than during the weekdays."
   ]
  },
  {
   "cell_type": "markdown",
   "metadata": {},
   "source": [
    "# Null Hypothesis:\n",
    "Ho: 24-Hour Passes are purchased in equal or lesser amounts on weekends (Sat-Sun) as on weekdays (Mon-Fri)."
   ]
  },
  {
   "cell_type": "markdown",
   "metadata": {},
   "source": [
    "# Alternate Hypothesis: \n",
    "Ha: More 24-Hour Passes are purchased on weekends (Sat-Sun) than weekdays (Mon-Fri)."
   ]
  },
  {
   "cell_type": "markdown",
   "metadata": {},
   "source": [
    "# Confidence Level: p = 0.05"
   ]
  },
  {
   "cell_type": "code",
   "execution_count": 2,
   "metadata": {
    "collapsed": false
   },
   "outputs": [
    {
     "data": {
      "text/html": [
       "<div>\n",
       "<table border=\"1\" class=\"dataframe\">\n",
       "  <thead>\n",
       "    <tr style=\"text-align: right;\">\n",
       "      <th></th>\n",
       "      <th>Date</th>\n",
       "      <th>Trips over the past 24-hours (midnight to 11:59pm)</th>\n",
       "      <th>Cumulative trips (since launch):</th>\n",
       "      <th>Miles traveled today (midnight to 11:59 pm)</th>\n",
       "      <th>Miles traveled to date:</th>\n",
       "      <th>Total Annual Members (All Time)</th>\n",
       "      <th>24-Hour Passes Purchased (midnight to 11:59 pm)</th>\n",
       "      <th>3-Day Passes Purchased (midnight to 11:59 pm)</th>\n",
       "      <th>7-Day Passes Purchased (midnight to 11:59 pm)</th>\n",
       "    </tr>\n",
       "  </thead>\n",
       "  <tbody>\n",
       "    <tr>\n",
       "      <th>0</th>\n",
       "      <td>4/1/16</td>\n",
       "      <td>34448</td>\n",
       "      <td>26384204</td>\n",
       "      <td>67595</td>\n",
       "      <td>48286873</td>\n",
       "      <td>163963</td>\n",
       "      <td>1113</td>\n",
       "      <td>0</td>\n",
       "      <td>82</td>\n",
       "    </tr>\n",
       "    <tr>\n",
       "      <th>1</th>\n",
       "      <td>4/2/16</td>\n",
       "      <td>21838</td>\n",
       "      <td>26406042</td>\n",
       "      <td>46206</td>\n",
       "      <td>48333079</td>\n",
       "      <td>164031</td>\n",
       "      <td>1193</td>\n",
       "      <td>0</td>\n",
       "      <td>63</td>\n",
       "    </tr>\n",
       "    <tr>\n",
       "      <th>2</th>\n",
       "      <td>4/3/16</td>\n",
       "      <td>15321</td>\n",
       "      <td>26421363</td>\n",
       "      <td>28615</td>\n",
       "      <td>48361694</td>\n",
       "      <td>164102</td>\n",
       "      <td>448</td>\n",
       "      <td>0</td>\n",
       "      <td>31</td>\n",
       "    </tr>\n",
       "    <tr>\n",
       "      <th>3</th>\n",
       "      <td>4/4/16</td>\n",
       "      <td>12302</td>\n",
       "      <td>26433665</td>\n",
       "      <td>20143</td>\n",
       "      <td>48381837</td>\n",
       "      <td>164167</td>\n",
       "      <td>49</td>\n",
       "      <td>0</td>\n",
       "      <td>19</td>\n",
       "    </tr>\n",
       "    <tr>\n",
       "      <th>4</th>\n",
       "      <td>4/5/16</td>\n",
       "      <td>26236</td>\n",
       "      <td>26459901</td>\n",
       "      <td>43723</td>\n",
       "      <td>48425560</td>\n",
       "      <td>164237</td>\n",
       "      <td>341</td>\n",
       "      <td>0</td>\n",
       "      <td>56</td>\n",
       "    </tr>\n",
       "  </tbody>\n",
       "</table>\n",
       "</div>"
      ],
      "text/plain": [
       "     Date  Trips over the past 24-hours (midnight to 11:59pm)  \\\n",
       "0  4/1/16                                              34448    \n",
       "1  4/2/16                                              21838    \n",
       "2  4/3/16                                              15321    \n",
       "3  4/4/16                                              12302    \n",
       "4  4/5/16                                              26236    \n",
       "\n",
       "   Cumulative trips (since launch):  \\\n",
       "0                          26384204   \n",
       "1                          26406042   \n",
       "2                          26421363   \n",
       "3                          26433665   \n",
       "4                          26459901   \n",
       "\n",
       "   Miles traveled today (midnight to 11:59 pm)  Miles traveled to date:  \\\n",
       "0                                        67595                 48286873   \n",
       "1                                        46206                 48333079   \n",
       "2                                        28615                 48361694   \n",
       "3                                        20143                 48381837   \n",
       "4                                        43723                 48425560   \n",
       "\n",
       "   Total Annual Members (All Time)  \\\n",
       "0                           163963   \n",
       "1                           164031   \n",
       "2                           164102   \n",
       "3                           164167   \n",
       "4                           164237   \n",
       "\n",
       "   24-Hour Passes Purchased (midnight to 11:59 pm)  \\\n",
       "0                                             1113   \n",
       "1                                             1193   \n",
       "2                                              448   \n",
       "3                                               49   \n",
       "4                                              341   \n",
       "\n",
       "   3-Day Passes Purchased (midnight to 11:59 pm)  \\\n",
       "0                                              0   \n",
       "1                                              0   \n",
       "2                                              0   \n",
       "3                                              0   \n",
       "4                                              0   \n",
       "\n",
       "   7-Day Passes Purchased (midnight to 11:59 pm)  \n",
       "0                                             82  \n",
       "1                                             63  \n",
       "2                                             31  \n",
       "3                                             19  \n",
       "4                                             56  "
      ]
     },
     "execution_count": 2,
     "metadata": {},
     "output_type": "execute_result"
    }
   ],
   "source": [
    "# Importing CitiBike April 2016 - June 2016 Rider and Membership Usage Data. \n",
    "df = pd.read_csv('CitiBikeUsageData.csv')\n",
    "df.head()"
   ]
  },
  {
   "cell_type": "code",
   "execution_count": 3,
   "metadata": {
    "collapsed": false,
    "scrolled": false
   },
   "outputs": [
    {
     "data": {
      "text/html": [
       "<div>\n",
       "<table border=\"1\" class=\"dataframe\">\n",
       "  <thead>\n",
       "    <tr style=\"text-align: right;\">\n",
       "      <th></th>\n",
       "      <th>Date</th>\n",
       "      <th>24-Hour Passes Purchased (midnight to 11:59 pm)</th>\n",
       "    </tr>\n",
       "  </thead>\n",
       "  <tbody>\n",
       "    <tr>\n",
       "      <th>0</th>\n",
       "      <td>4/1/16</td>\n",
       "      <td>1113</td>\n",
       "    </tr>\n",
       "    <tr>\n",
       "      <th>1</th>\n",
       "      <td>4/2/16</td>\n",
       "      <td>1193</td>\n",
       "    </tr>\n",
       "    <tr>\n",
       "      <th>2</th>\n",
       "      <td>4/3/16</td>\n",
       "      <td>448</td>\n",
       "    </tr>\n",
       "    <tr>\n",
       "      <th>3</th>\n",
       "      <td>4/4/16</td>\n",
       "      <td>49</td>\n",
       "    </tr>\n",
       "    <tr>\n",
       "      <th>4</th>\n",
       "      <td>4/5/16</td>\n",
       "      <td>341</td>\n",
       "    </tr>\n",
       "  </tbody>\n",
       "</table>\n",
       "</div>"
      ],
      "text/plain": [
       "     Date  24-Hour Passes Purchased (midnight to 11:59 pm)\n",
       "0  4/1/16                                             1113\n",
       "1  4/2/16                                             1193\n",
       "2  4/3/16                                              448\n",
       "3  4/4/16                                               49\n",
       "4  4/5/16                                              341"
      ]
     },
     "execution_count": 3,
     "metadata": {},
     "output_type": "execute_result"
    }
   ],
   "source": [
    "df.drop(df.columns[[1,2,3,4,5,7,8]], axis =1, inplace = True)\n",
    "df.head()"
   ]
  },
  {
   "cell_type": "code",
   "execution_count": 4,
   "metadata": {
    "collapsed": false
   },
   "outputs": [
    {
     "data": {
      "text/html": [
       "<div>\n",
       "<table border=\"1\" class=\"dataframe\">\n",
       "  <thead>\n",
       "    <tr style=\"text-align: right;\">\n",
       "      <th></th>\n",
       "      <th>Date</th>\n",
       "      <th>24-Hour Passes Purchased (midnight to 11:59 pm)</th>\n",
       "    </tr>\n",
       "  </thead>\n",
       "  <tbody>\n",
       "    <tr>\n",
       "      <th>0</th>\n",
       "      <td>2016-04-01</td>\n",
       "      <td>1113</td>\n",
       "    </tr>\n",
       "    <tr>\n",
       "      <th>1</th>\n",
       "      <td>2016-04-02</td>\n",
       "      <td>1193</td>\n",
       "    </tr>\n",
       "    <tr>\n",
       "      <th>2</th>\n",
       "      <td>2016-04-03</td>\n",
       "      <td>448</td>\n",
       "    </tr>\n",
       "    <tr>\n",
       "      <th>3</th>\n",
       "      <td>2016-04-04</td>\n",
       "      <td>49</td>\n",
       "    </tr>\n",
       "    <tr>\n",
       "      <th>4</th>\n",
       "      <td>2016-04-05</td>\n",
       "      <td>341</td>\n",
       "    </tr>\n",
       "  </tbody>\n",
       "</table>\n",
       "</div>"
      ],
      "text/plain": [
       "        Date  24-Hour Passes Purchased (midnight to 11:59 pm)\n",
       "0 2016-04-01                                             1113\n",
       "1 2016-04-02                                             1193\n",
       "2 2016-04-03                                              448\n",
       "3 2016-04-04                                               49\n",
       "4 2016-04-05                                              341"
      ]
     },
     "execution_count": 4,
     "metadata": {},
     "output_type": "execute_result"
    }
   ],
   "source": [
    "df['Date'] = pd.to_datetime(df['Date'])\n",
    "df.head()"
   ]
  },
  {
   "cell_type": "code",
   "execution_count": 5,
   "metadata": {
    "collapsed": false,
    "scrolled": true
   },
   "outputs": [
    {
     "data": {
      "text/html": [
       "<div>\n",
       "<table border=\"1\" class=\"dataframe\">\n",
       "  <thead>\n",
       "    <tr style=\"text-align: right;\">\n",
       "      <th></th>\n",
       "      <th>Date</th>\n",
       "      <th>24-Hour Passes Purchased (midnight to 11:59 pm)</th>\n",
       "      <th>Days</th>\n",
       "    </tr>\n",
       "  </thead>\n",
       "  <tbody>\n",
       "    <tr>\n",
       "      <th>0</th>\n",
       "      <td>2016-04-01</td>\n",
       "      <td>1113</td>\n",
       "      <td>Friday</td>\n",
       "    </tr>\n",
       "    <tr>\n",
       "      <th>1</th>\n",
       "      <td>2016-04-02</td>\n",
       "      <td>1193</td>\n",
       "      <td>Saturday</td>\n",
       "    </tr>\n",
       "    <tr>\n",
       "      <th>2</th>\n",
       "      <td>2016-04-03</td>\n",
       "      <td>448</td>\n",
       "      <td>Sunday</td>\n",
       "    </tr>\n",
       "    <tr>\n",
       "      <th>3</th>\n",
       "      <td>2016-04-04</td>\n",
       "      <td>49</td>\n",
       "      <td>Monday</td>\n",
       "    </tr>\n",
       "    <tr>\n",
       "      <th>4</th>\n",
       "      <td>2016-04-05</td>\n",
       "      <td>341</td>\n",
       "      <td>Tuesday</td>\n",
       "    </tr>\n",
       "  </tbody>\n",
       "</table>\n",
       "</div>"
      ],
      "text/plain": [
       "        Date  24-Hour Passes Purchased (midnight to 11:59 pm)      Days\n",
       "0 2016-04-01                                             1113    Friday\n",
       "1 2016-04-02                                             1193  Saturday\n",
       "2 2016-04-03                                              448    Sunday\n",
       "3 2016-04-04                                               49    Monday\n",
       "4 2016-04-05                                              341   Tuesday"
      ]
     },
     "execution_count": 5,
     "metadata": {},
     "output_type": "execute_result"
    }
   ],
   "source": [
    "df1 = df.copy()\n",
    "df1['Days'] = df[['Date']].apply(lambda x: dt.datetime.strftime(x['Date'], '%A'), axis=1)\n",
    "df1.head()"
   ]
  },
  {
   "cell_type": "code",
   "execution_count": 13,
   "metadata": {
    "collapsed": false
   },
   "outputs": [
    {
     "data": {
      "text/plain": [
       "<matplotlib.text.Text at 0x7f5e71831b38>"
      ]
     },
     "execution_count": 13,
     "metadata": {},
     "output_type": "execute_result"
    },
    {
     "data": {
      "image/png": "[encoded data removed]",
      "text/plain": [
       "<matplotlib.figure.Figure at 0x7f5e4b2687b8>"
      ]
     },
     "metadata": {},
     "output_type": "display_data"
    }
   ],
   "source": [
    "df1.groupby(['Days'])['24-Hour Passes Purchased (midnight to 11:59 pm)'].mean().plot(kind='bar')\n",
    "pl.title('Mean of Passes Purchased By Day of Week', fontsize=13)\n",
    "pl.ylabel('Mean of Passes Purchased')\n",
    "pl.xlabel('Days')"
   ]
  },
  {
   "cell_type": "markdown",
   "metadata": {},
   "source": [
    "### Figure 1: Mean of 24-Hour Passes Purchased By Day of Week"
   ]
  }
 ],
 "metadata": {
  "kernelspec": {
   "display_name": "PUI2016_Python3",
   "language": "python",
   "name": "pui2016_python3"
  },
  "language_info": {
   "codemirror_mode": {
    "name": "ipython",
    "version": 3
   },
   "file_extension": ".py",
   "mimetype": "text/x-python",
   "name": "python",
   "nbconvert_exporter": "python",
   "pygments_lexer": "ipython3",
   "version": "3.5.2"
  }
 },
 "nbformat": 4,
 "nbformat_minor": 0
}
