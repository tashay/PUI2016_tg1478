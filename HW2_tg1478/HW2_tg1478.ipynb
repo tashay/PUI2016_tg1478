{
 "cells": [
  {
   "cell_type": "code",
   "execution_count": 13,
   "metadata": {
    "collapsed": false
   },
   "outputs": [
    {
     "name": "stdout",
     "output_type": "stream",
     "text": [
      "Populating the interactive namespace from numpy and matplotlib\n"
     ]
    }
   ],
   "source": [
    "import pandas as pd \n",
    "import os\n",
    "import pylab as pl\n",
    "%pylab inline"
   ]
  },
  {
   "cell_type": "code",
   "execution_count": 14,
   "metadata": {
    "collapsed": false,
    "scrolled": true
   },
   "outputs": [
    {
     "data": {
      "text/plain": [
       "'/gws/open/NYCOpenData/nycopendata/data'"
      ]
     },
     "execution_count": 14,
     "metadata": {},
     "output_type": "execute_result"
    }
   ],
   "source": [
    "# Accesses environmental variable 'DFDATA'\n",
    "os.getenv('DFDATA')"
   ]
  },
  {
   "cell_type": "code",
   "execution_count": 15,
   "metadata": {
    "collapsed": true
   },
   "outputs": [],
   "source": [
    "# Locates the file & stores it in a variable called dataFile\n",
    "dataFile = os.getenv('DFDATA') + '/' + 'uwyv-629c/1404229822/uwyv-629c'"
   ]
  },
  {
   "cell_type": "code",
   "execution_count": 16,
   "metadata": {
    "collapsed": false
   },
   "outputs": [
    {
     "data": {
      "text/html": [
       "<div>\n",
       "<table border=\"1\" class=\"dataframe\">\n",
       "  <thead>\n",
       "    <tr style=\"text-align: right;\">\n",
       "      <th></th>\n",
       "      <th>ComplaintID</th>\n",
       "      <th>BuildingID</th>\n",
       "      <th>Borough</th>\n",
       "      <th>HouseNumber</th>\n",
       "      <th>StreetName</th>\n",
       "      <th>Zip</th>\n",
       "      <th>Block</th>\n",
       "      <th>Lot</th>\n",
       "      <th>Apartment</th>\n",
       "      <th>CommunityBoard</th>\n",
       "      <th>ReceivedDate</th>\n",
       "      <th>ReferenceNumber</th>\n",
       "      <th>Status</th>\n",
       "      <th>StatusDate</th>\n",
       "    </tr>\n",
       "  </thead>\n",
       "  <tbody>\n",
       "    <tr>\n",
       "      <th>0</th>\n",
       "      <td>6510355</td>\n",
       "      <td>1573</td>\n",
       "      <td>MANHATTAN</td>\n",
       "      <td>843</td>\n",
       "      <td>2 AVENUE</td>\n",
       "      <td>10017.0</td>\n",
       "      <td>1319</td>\n",
       "      <td>122</td>\n",
       "      <td>BLDG</td>\n",
       "      <td>6</td>\n",
       "      <td>09/05/2013 12:00:00 AM</td>\n",
       "      <td>NaN</td>\n",
       "      <td>CLOSE</td>\n",
       "      <td>10/01/2013 12:00:00 AM</td>\n",
       "    </tr>\n",
       "    <tr>\n",
       "      <th>1</th>\n",
       "      <td>6531241</td>\n",
       "      <td>5587</td>\n",
       "      <td>MANHATTAN</td>\n",
       "      <td>1516</td>\n",
       "      <td>AMSTERDAM AVENUE</td>\n",
       "      <td>10031.0</td>\n",
       "      <td>1988</td>\n",
       "      <td>36</td>\n",
       "      <td>3C</td>\n",
       "      <td>9</td>\n",
       "      <td>10/07/2013 12:00:00 AM</td>\n",
       "      <td>NaN</td>\n",
       "      <td>OPEN</td>\n",
       "      <td>10/07/2013 12:00:00 AM</td>\n",
       "    </tr>\n",
       "    <tr>\n",
       "      <th>2</th>\n",
       "      <td>6528291</td>\n",
       "      <td>6261</td>\n",
       "      <td>MANHATTAN</td>\n",
       "      <td>461</td>\n",
       "      <td>AUDUBON AVENUE</td>\n",
       "      <td>10040.0</td>\n",
       "      <td>2159</td>\n",
       "      <td>35</td>\n",
       "      <td>11</td>\n",
       "      <td>12</td>\n",
       "      <td>10/02/2013 12:00:00 AM</td>\n",
       "      <td>NaN</td>\n",
       "      <td>CLOSE</td>\n",
       "      <td>10/10/2013 12:00:00 AM</td>\n",
       "    </tr>\n",
       "    <tr>\n",
       "      <th>3</th>\n",
       "      <td>6532106</td>\n",
       "      <td>6263</td>\n",
       "      <td>MANHATTAN</td>\n",
       "      <td>470</td>\n",
       "      <td>AUDUBON AVENUE</td>\n",
       "      <td>10040.0</td>\n",
       "      <td>2158</td>\n",
       "      <td>47</td>\n",
       "      <td>A5</td>\n",
       "      <td>12</td>\n",
       "      <td>10/08/2013 12:00:00 AM</td>\n",
       "      <td>NaN</td>\n",
       "      <td>CLOSE</td>\n",
       "      <td>10/16/2013 12:00:00 AM</td>\n",
       "    </tr>\n",
       "    <tr>\n",
       "      <th>4</th>\n",
       "      <td>6558986</td>\n",
       "      <td>19589</td>\n",
       "      <td>MANHATTAN</td>\n",
       "      <td>464</td>\n",
       "      <td>EAST 115 STREET</td>\n",
       "      <td>10029.0</td>\n",
       "      <td>1708</td>\n",
       "      <td>27</td>\n",
       "      <td>NaN</td>\n",
       "      <td>11</td>\n",
       "      <td>10/29/2013 12:00:00 AM</td>\n",
       "      <td>1-1-903785921</td>\n",
       "      <td>OPEN</td>\n",
       "      <td>10/29/2013 12:00:00 AM</td>\n",
       "    </tr>\n",
       "  </tbody>\n",
       "</table>\n",
       "</div>"
      ],
      "text/plain": [
       "   ComplaintID  BuildingID    Borough HouseNumber        StreetName      Zip  \\\n",
       "0      6510355        1573  MANHATTAN         843          2 AVENUE  10017.0   \n",
       "1      6531241        5587  MANHATTAN        1516  AMSTERDAM AVENUE  10031.0   \n",
       "2      6528291        6261  MANHATTAN         461    AUDUBON AVENUE  10040.0   \n",
       "3      6532106        6263  MANHATTAN         470    AUDUBON AVENUE  10040.0   \n",
       "4      6558986       19589  MANHATTAN         464   EAST 115 STREET  10029.0   \n",
       "\n",
       "   Block  Lot Apartment  CommunityBoard            ReceivedDate  \\\n",
       "0   1319  122      BLDG               6  09/05/2013 12:00:00 AM   \n",
       "1   1988   36        3C               9  10/07/2013 12:00:00 AM   \n",
       "2   2159   35        11              12  10/02/2013 12:00:00 AM   \n",
       "3   2158   47        A5              12  10/08/2013 12:00:00 AM   \n",
       "4   1708   27       NaN              11  10/29/2013 12:00:00 AM   \n",
       "\n",
       "  ReferenceNumber Status              StatusDate  \n",
       "0             NaN  CLOSE  10/01/2013 12:00:00 AM  \n",
       "1             NaN   OPEN  10/07/2013 12:00:00 AM  \n",
       "2             NaN  CLOSE  10/10/2013 12:00:00 AM  \n",
       "3             NaN  CLOSE  10/16/2013 12:00:00 AM  \n",
       "4   1-1-903785921   OPEN  10/29/2013 12:00:00 AM  "
      ]
     },
     "execution_count": 16,
     "metadata": {},
     "output_type": "execute_result"
    }
   ],
   "source": [
    "# Reads the csv file and shows the first few rows of the file\n",
    "complaints = pd.read_csv(dataFile)\n",
    "complaints.head()"
   ]
  },
  {
   "cell_type": "code",
   "execution_count": 20,
   "metadata": {
    "collapsed": false,
    "scrolled": true
   },
   "outputs": [
    {
     "data": {
      "text/html": [
       "<div>\n",
       "<table border=\"1\" class=\"dataframe\">\n",
       "  <thead>\n",
       "    <tr style=\"text-align: right;\">\n",
       "      <th></th>\n",
       "      <th>Lot</th>\n",
       "      <th>CommunityBoard</th>\n",
       "    </tr>\n",
       "  </thead>\n",
       "  <tbody>\n",
       "    <tr>\n",
       "      <th>0</th>\n",
       "      <td>122</td>\n",
       "      <td>6</td>\n",
       "    </tr>\n",
       "    <tr>\n",
       "      <th>1</th>\n",
       "      <td>36</td>\n",
       "      <td>9</td>\n",
       "    </tr>\n",
       "    <tr>\n",
       "      <th>2</th>\n",
       "      <td>35</td>\n",
       "      <td>12</td>\n",
       "    </tr>\n",
       "    <tr>\n",
       "      <th>3</th>\n",
       "      <td>47</td>\n",
       "      <td>12</td>\n",
       "    </tr>\n",
       "    <tr>\n",
       "      <th>4</th>\n",
       "      <td>27</td>\n",
       "      <td>11</td>\n",
       "    </tr>\n",
       "  </tbody>\n",
       "</table>\n",
       "</div>"
      ],
      "text/plain": [
       "   Lot  CommunityBoard\n",
       "0  122               6\n",
       "1   36               9\n",
       "2   35              12\n",
       "3   47              12\n",
       "4   27              11"
      ]
     },
     "execution_count": 20,
     "metadata": {},
     "output_type": "execute_result"
    }
   ],
   "source": [
    "# Deletes columns that are unwanted on the x axis\n",
    "# Numerical value columns remaining are Lot and CommunityBoard\n",
    "unwanted_columns = ['ComplaintID', 'BuildingID', 'Borough', 'HouseNumber', 'StreetName', 'HouseNumber', 'StreetName','Zip', 'Block', 'Apartment', 'ReceivedDate', 'ReferenceNumber', 'Status', 'StatusDate']\n",
    "dropped = complaints.drop (unwanted_columns, axis = 1)\n",
    "dropped.head()"
   ]
  },
  {
   "cell_type": "code",
   "execution_count": 9,
   "metadata": {
    "collapsed": false,
    "scrolled": true
   },
   "outputs": [
    {
     "data": {
      "text/plain": [
       "<matplotlib.text.Text at 0x7f36332564e0>"
      ]
     },
     "execution_count": 9,
     "metadata": {},
     "output_type": "execute_result"
    },
    {
     "data": {
      "image/png": "[encoded data removed]",
      "text/plain": [
       "<matplotlib.figure.Figure at 0x7f362f53b3c8>"
      ]
     },
     "metadata": {},
     "output_type": "display_data"
    }
   ],
   "source": [
    "# Plot Lot against CommunityBoard\n",
    "# Title \n",
    "ax = complaints.plot.scatter(x='Lot', y='CommunityBoard', alpha=0.2)\n",
    "ax.set_title(\"Housing Lot Complaints and Their Community Board\")"
   ]
  },
  {
   "cell_type": "markdown",
   "metadata": {
    "collapsed": true
   },
   "source": [
    "# Figure 1: \n",
    "NYC housing lot complaints and their community boards. "
   ]
  }
 ],
 "metadata": {
  "kernelspec": {
   "display_name": "PUI2016_Python3",
   "language": "python",
   "name": "pui2016_python3"
  },
  "language_info": {
   "codemirror_mode": {
    "name": "ipython",
    "version": 3
   },
   "file_extension": ".py",
   "mimetype": "text/x-python",
   "name": "python",
   "nbconvert_exporter": "python",
   "pygments_lexer": "ipython3",
   "version": "3.5.2"
  }
 },
 "nbformat": 4,
 "nbformat_minor": 0
}
