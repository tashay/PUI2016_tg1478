{
 "cells": [
  {
   "cell_type": "code",
   "execution_count": 1,
   "metadata": {
    "collapsed": false
   },
   "outputs": [
    {
     "name": "stdout",
     "output_type": "stream",
     "text": [
      "Populating the interactive namespace from numpy and matplotlib\n"
     ]
    }
   ],
   "source": [
    "import numpy as np\n",
    "import pandas as pd\n",
    "import pylab as pl \n",
    "import datetime as dt\n",
    "\n",
    "%pylab inline"
   ]
  },
  {
   "cell_type": "code",
   "execution_count": 2,
   "metadata": {
    "collapsed": false
   },
   "outputs": [
    {
     "data": {
      "text/html": [
       "<div>\n",
       "<table border=\"1\" class=\"dataframe\">\n",
       "  <thead>\n",
       "    <tr style=\"text-align: right;\">\n",
       "      <th></th>\n",
       "      <th>OBJECTID</th>\n",
       "      <th>Identifier</th>\n",
       "      <th>Occurrence Date</th>\n",
       "      <th>Day of Week</th>\n",
       "      <th>Occurrence Month</th>\n",
       "      <th>Occurrence Day</th>\n",
       "      <th>Occurrence Year</th>\n",
       "      <th>Occurrence Hour</th>\n",
       "      <th>CompStat Month</th>\n",
       "      <th>CompStat Day</th>\n",
       "      <th>CompStat Year</th>\n",
       "      <th>Offense</th>\n",
       "      <th>Offense Classification</th>\n",
       "      <th>Sector</th>\n",
       "      <th>Precinct</th>\n",
       "      <th>Borough</th>\n",
       "      <th>Jurisdiction</th>\n",
       "      <th>XCoordinate</th>\n",
       "      <th>YCoordinate</th>\n",
       "      <th>Location 1</th>\n",
       "    </tr>\n",
       "  </thead>\n",
       "  <tbody>\n",
       "    <tr>\n",
       "      <th>0</th>\n",
       "      <td>1107108</td>\n",
       "      <td>3d8920cf</td>\n",
       "      <td>03/01/2015 12:01:00 AM</td>\n",
       "      <td>Sunday</td>\n",
       "      <td>Mar</td>\n",
       "      <td>1</td>\n",
       "      <td>2015</td>\n",
       "      <td>0</td>\n",
       "      <td>6</td>\n",
       "      <td>17</td>\n",
       "      <td>2015</td>\n",
       "      <td>RAPE</td>\n",
       "      <td>FELONY</td>\n",
       "      <td>A</td>\n",
       "      <td>101</td>\n",
       "      <td>QUEENS</td>\n",
       "      <td>N.Y. POLICE DEPT</td>\n",
       "      <td>1053678</td>\n",
       "      <td>159044</td>\n",
       "      <td>(40.6029515910001, -73.749976261)</td>\n",
       "    </tr>\n",
       "    <tr>\n",
       "      <th>1</th>\n",
       "      <td>1107109</td>\n",
       "      <td>8c295251</td>\n",
       "      <td>03/01/2015 12:01:00 AM</td>\n",
       "      <td>Sunday</td>\n",
       "      <td>Mar</td>\n",
       "      <td>1</td>\n",
       "      <td>2015</td>\n",
       "      <td>0</td>\n",
       "      <td>3</td>\n",
       "      <td>1</td>\n",
       "      <td>2015</td>\n",
       "      <td>GRAND LARCENY</td>\n",
       "      <td>FELONY</td>\n",
       "      <td>H</td>\n",
       "      <td>62</td>\n",
       "      <td>BROOKLYN</td>\n",
       "      <td>N.Y. POLICE DEPT</td>\n",
       "      <td>983057</td>\n",
       "      <td>163228</td>\n",
       "      <td>(40.6147076880001, -74.0042984409999)</td>\n",
       "    </tr>\n",
       "    <tr>\n",
       "      <th>2</th>\n",
       "      <td>1107110</td>\n",
       "      <td>303d301b</td>\n",
       "      <td>03/01/2015 12:01:00 AM</td>\n",
       "      <td>Sunday</td>\n",
       "      <td>Mar</td>\n",
       "      <td>1</td>\n",
       "      <td>2015</td>\n",
       "      <td>0</td>\n",
       "      <td>4</td>\n",
       "      <td>9</td>\n",
       "      <td>2015</td>\n",
       "      <td>RAPE</td>\n",
       "      <td>FELONY</td>\n",
       "      <td>C</td>\n",
       "      <td>66</td>\n",
       "      <td>BROOKLYN</td>\n",
       "      <td>N.Y. POLICE DEPT</td>\n",
       "      <td>986633</td>\n",
       "      <td>167258</td>\n",
       "      <td>(40.6257689610001, -73.991416822)</td>\n",
       "    </tr>\n",
       "    <tr>\n",
       "      <th>3</th>\n",
       "      <td>1107111</td>\n",
       "      <td>3edb706a</td>\n",
       "      <td>03/01/2015 12:01:00 AM</td>\n",
       "      <td>Sunday</td>\n",
       "      <td>Mar</td>\n",
       "      <td>1</td>\n",
       "      <td>2015</td>\n",
       "      <td>0</td>\n",
       "      <td>3</td>\n",
       "      <td>1</td>\n",
       "      <td>2015</td>\n",
       "      <td>GRAND LARCENY OF MOTOR VEHICLE</td>\n",
       "      <td>FELONY</td>\n",
       "      <td>A</td>\n",
       "      <td>121</td>\n",
       "      <td>STATEN ISLAND</td>\n",
       "      <td>N.Y. POLICE DEPT</td>\n",
       "      <td>936734</td>\n",
       "      <td>171157</td>\n",
       "      <td>(40.63634376, -74.171202292)</td>\n",
       "    </tr>\n",
       "    <tr>\n",
       "      <th>4</th>\n",
       "      <td>1107193</td>\n",
       "      <td>94d0b3da</td>\n",
       "      <td>03/01/2015 12:01:00 AM</td>\n",
       "      <td>Sunday</td>\n",
       "      <td>Mar</td>\n",
       "      <td>1</td>\n",
       "      <td>2015</td>\n",
       "      <td>0</td>\n",
       "      <td>3</td>\n",
       "      <td>19</td>\n",
       "      <td>2015</td>\n",
       "      <td>GRAND LARCENY</td>\n",
       "      <td>FELONY</td>\n",
       "      <td>G</td>\n",
       "      <td>71</td>\n",
       "      <td>BROOKLYN</td>\n",
       "      <td>N.Y. POLICE DEPT</td>\n",
       "      <td>1002927</td>\n",
       "      <td>182323</td>\n",
       "      <td>(40.6670997620001, -73.932676944)</td>\n",
       "    </tr>\n",
       "  </tbody>\n",
       "</table>\n",
       "</div>"
      ],
      "text/plain": [
       "   OBJECTID Identifier         Occurrence Date Day of Week Occurrence Month  \\\n",
       "0   1107108   3d8920cf  03/01/2015 12:01:00 AM      Sunday              Mar   \n",
       "1   1107109   8c295251  03/01/2015 12:01:00 AM      Sunday              Mar   \n",
       "2   1107110   303d301b  03/01/2015 12:01:00 AM      Sunday              Mar   \n",
       "3   1107111   3edb706a  03/01/2015 12:01:00 AM      Sunday              Mar   \n",
       "4   1107193   94d0b3da  03/01/2015 12:01:00 AM      Sunday              Mar   \n",
       "\n",
       "   Occurrence Day  Occurrence Year  Occurrence Hour  CompStat Month  \\\n",
       "0               1             2015                0               6   \n",
       "1               1             2015                0               3   \n",
       "2               1             2015                0               4   \n",
       "3               1             2015                0               3   \n",
       "4               1             2015                0               3   \n",
       "\n",
       "   CompStat Day  CompStat Year                         Offense  \\\n",
       "0            17           2015                            RAPE   \n",
       "1             1           2015                   GRAND LARCENY   \n",
       "2             9           2015                            RAPE   \n",
       "3             1           2015  GRAND LARCENY OF MOTOR VEHICLE   \n",
       "4            19           2015                   GRAND LARCENY   \n",
       "\n",
       "  Offense Classification Sector  Precinct        Borough      Jurisdiction  \\\n",
       "0                 FELONY      A       101         QUEENS  N.Y. POLICE DEPT   \n",
       "1                 FELONY      H        62       BROOKLYN  N.Y. POLICE DEPT   \n",
       "2                 FELONY      C        66       BROOKLYN  N.Y. POLICE DEPT   \n",
       "3                 FELONY      A       121  STATEN ISLAND  N.Y. POLICE DEPT   \n",
       "4                 FELONY      G        71       BROOKLYN  N.Y. POLICE DEPT   \n",
       "\n",
       "   XCoordinate  YCoordinate                             Location 1  \n",
       "0      1053678       159044      (40.6029515910001, -73.749976261)  \n",
       "1       983057       163228  (40.6147076880001, -74.0042984409999)  \n",
       "2       986633       167258      (40.6257689610001, -73.991416822)  \n",
       "3       936734       171157           (40.63634376, -74.171202292)  \n",
       "4      1002927       182323      (40.6670997620001, -73.932676944)  "
      ]
     },
     "execution_count": 2,
     "metadata": {},
     "output_type": "execute_result"
    }
   ],
   "source": [
    "#Reading in data\n",
    "url = 'http://cosmo.nyu.edu/~fb55/PUI2016/data/'\n",
    "df = pd.read_csv(url + 'NYPD_7_Major_Felony_Incidents.csv')\n",
    "df.head()"
   ]
  },
  {
   "cell_type": "code",
   "execution_count": 3,
   "metadata": {
    "collapsed": false
   },
   "outputs": [],
   "source": [
    "df['Date'] = pd.to_datetime(df['Occurrence Date'])\n",
    "df['Month'] = df['Date'].dt.month"
   ]
  },
  {
   "cell_type": "code",
   "execution_count": 4,
   "metadata": {
    "collapsed": false
   },
   "outputs": [
    {
     "data": {
      "text/plain": [
       "GRAND LARCENY                     35979\n",
       "FELONY ASSAULT                    17572\n",
       "ROBBERY                           14402\n",
       "BURGLARY                          12793\n",
       "GRAND LARCENY OF MOTOR VEHICLE     6292\n",
       "RAPE                                999\n",
       "MURDER & NON-NEGL. MANSLAUGHTE      282\n",
       "Name: Offense, dtype: int64"
      ]
     },
     "execution_count": 4,
     "metadata": {},
     "output_type": "execute_result"
    }
   ],
   "source": [
    "df.Offense.value_counts()"
   ]
  },
  {
   "cell_type": "code",
   "execution_count": 5,
   "metadata": {
    "collapsed": false
   },
   "outputs": [],
   "source": [
    "df['Month'] = df['Month'].map({3: 'March', 4:'April',5:'May',6:'June',7:'July',8:'August',9:'September',10:'October',11:'November',12:'December'})\n",
    "df['Offense'] = df['Offense'].map({'RAPE':'RAPE','GRAND LARCENY':'LARCENY','ROBBERY':'ROBBERY','GRAND LARCENY OF MOTOR VEHICLE':'GTA','MURDER & NON-NEGL. MANSLAUGHTE': 'MURDER', 'FELONY ASSAULT':'ASSAULT', 'BURGLARY':'BURGLARY'})\n",
    "df = df[['Offense','Month']]"
   ]
  },
  {
   "cell_type": "code",
   "execution_count": 6,
   "metadata": {
    "collapsed": false
   },
   "outputs": [
    {
     "data": {
      "text/html": [
       "<div>\n",
       "<table border=\"1\" class=\"dataframe\">\n",
       "  <thead>\n",
       "    <tr style=\"text-align: right;\">\n",
       "      <th></th>\n",
       "      <th>Offense</th>\n",
       "      <th>Month</th>\n",
       "    </tr>\n",
       "  </thead>\n",
       "  <tbody>\n",
       "    <tr>\n",
       "      <th>0</th>\n",
       "      <td>RAPE</td>\n",
       "      <td>March</td>\n",
       "    </tr>\n",
       "    <tr>\n",
       "      <th>1</th>\n",
       "      <td>LARCENY</td>\n",
       "      <td>March</td>\n",
       "    </tr>\n",
       "    <tr>\n",
       "      <th>2</th>\n",
       "      <td>RAPE</td>\n",
       "      <td>March</td>\n",
       "    </tr>\n",
       "    <tr>\n",
       "      <th>3</th>\n",
       "      <td>GTA</td>\n",
       "      <td>March</td>\n",
       "    </tr>\n",
       "    <tr>\n",
       "      <th>4</th>\n",
       "      <td>LARCENY</td>\n",
       "      <td>March</td>\n",
       "    </tr>\n",
       "  </tbody>\n",
       "</table>\n",
       "</div>"
      ],
      "text/plain": [
       "   Offense  Month\n",
       "0     RAPE  March\n",
       "1  LARCENY  March\n",
       "2     RAPE  March\n",
       "3      GTA  March\n",
       "4  LARCENY  March"
      ]
     },
     "execution_count": 6,
     "metadata": {},
     "output_type": "execute_result"
    }
   ],
   "source": [
    "df.head()"
   ]
  },
  {
   "cell_type": "code",
   "execution_count": 14,
   "metadata": {
    "collapsed": false
   },
   "outputs": [
    {
     "data": {
      "text/plain": [
       "<matplotlib.legend.Legend at 0x7fac45267160>"
      ]
     },
     "execution_count": 14,
     "metadata": {},
     "output_type": "execute_result"
    },
    {
     "data": {
      "image/png": "[encoded data removed]",
      "text/plain": [
       "<matplotlib.figure.Figure at 0x7fac4521d7f0>"
      ]
     },
     "metadata": {},
     "output_type": "display_data"
    }
   ],
   "source": [
    "offense_table = pd.crosstab(index=df['Month'], \n",
    "                          columns=df['Offense'])\n",
    "\n",
    "offense_table.plot(kind=\"bar\", \n",
    "                 figsize=(12,12),\n",
    "                stacked = True)\n",
    "\n",
    "pl.title('NYPD 7 Major Felonies 2015', fontsize = 20)\n",
    "pl.xlabel('Month of Year')\n",
    "pl.ylabel('Count')\n",
    "pl.legend(loc = 'upper left', fontsize = 8)"
   ]
  },
  {
   "cell_type": "markdown",
   "metadata": {},
   "source": [
    "Figure 1: The figure above is a depiction of NYPD 7 Major Felonies of 2015 data. Each bar is a representation of the felonies taking place each month, segmented by felony type. "
   ]
  }
 ],
 "metadata": {
  "kernelspec": {
   "display_name": "PUI2016_Python3",
   "language": "python",
   "name": "pui2016_python3"
  },
  "language_info": {
   "codemirror_mode": {
    "name": "ipython",
    "version": 3
   },
   "file_extension": ".py",
   "mimetype": "text/x-python",
   "name": "python",
   "nbconvert_exporter": "python",
   "pygments_lexer": "ipython3",
   "version": "3.5.2"
  }
 },
 "nbformat": 4,
 "nbformat_minor": 0
}
